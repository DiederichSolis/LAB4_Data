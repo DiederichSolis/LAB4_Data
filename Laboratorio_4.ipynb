{
  "nbformat": 4,
  "nbformat_minor": 0,
  "metadata": {
    "colab": {
      "provenance": []
    },
    "kernelspec": {
      "name": "python3",
      "display_name": "Python 3"
    },
    "language_info": {
      "name": "python"
    }
  },
  "cells": [
    {
      "cell_type": "code",
      "execution_count": 1,
      "metadata": {
        "colab": {
          "base_uri": "https://localhost:8080/"
        },
        "id": "6xRiYil9cjvl",
        "outputId": "1b3ab92f-fd03-482d-e9d6-eac5dad13208"
      },
      "outputs": [
        {
          "output_type": "stream",
          "name": "stdout",
          "text": [
            "Collecting openeo\n",
            "  Downloading openeo-0.43.0-py3-none-any.whl.metadata (7.7 kB)\n",
            "Requirement already satisfied: requests>=2.26.0 in /usr/local/lib/python3.11/dist-packages (from openeo) (2.32.3)\n",
            "Requirement already satisfied: urllib3>=1.9.0 in /usr/local/lib/python3.11/dist-packages (from openeo) (2.5.0)\n",
            "Requirement already satisfied: shapely>=1.6.4 in /usr/local/lib/python3.11/dist-packages (from openeo) (2.1.1)\n",
            "Requirement already satisfied: numpy>=1.17.0 in /usr/local/lib/python3.11/dist-packages (from openeo) (2.0.2)\n",
            "Collecting xarray<2025.01.2,>=0.12.3 (from openeo)\n",
            "  Downloading xarray-2025.1.1-py3-none-any.whl.metadata (11 kB)\n",
            "Requirement already satisfied: pandas>0.20.0 in /usr/local/lib/python3.11/dist-packages (from openeo) (2.2.2)\n",
            "Collecting pystac>=1.5.0 (from openeo)\n",
            "  Downloading pystac-1.13.0-py3-none-any.whl.metadata (4.7 kB)\n",
            "Collecting deprecated>=1.2.12 (from openeo)\n",
            "  Downloading Deprecated-1.2.18-py2.py3-none-any.whl.metadata (5.7 kB)\n",
            "Requirement already satisfied: wrapt<2,>=1.10 in /usr/local/lib/python3.11/dist-packages (from deprecated>=1.2.12->openeo) (1.17.2)\n",
            "Requirement already satisfied: python-dateutil>=2.8.2 in /usr/local/lib/python3.11/dist-packages (from pandas>0.20.0->openeo) (2.9.0.post0)\n",
            "Requirement already satisfied: pytz>=2020.1 in /usr/local/lib/python3.11/dist-packages (from pandas>0.20.0->openeo) (2025.2)\n",
            "Requirement already satisfied: tzdata>=2022.7 in /usr/local/lib/python3.11/dist-packages (from pandas>0.20.0->openeo) (2025.2)\n",
            "Requirement already satisfied: charset-normalizer<4,>=2 in /usr/local/lib/python3.11/dist-packages (from requests>=2.26.0->openeo) (3.4.2)\n",
            "Requirement already satisfied: idna<4,>=2.5 in /usr/local/lib/python3.11/dist-packages (from requests>=2.26.0->openeo) (3.10)\n",
            "Requirement already satisfied: certifi>=2017.4.17 in /usr/local/lib/python3.11/dist-packages (from requests>=2.26.0->openeo) (2025.8.3)\n",
            "Requirement already satisfied: packaging>=23.2 in /usr/local/lib/python3.11/dist-packages (from xarray<2025.01.2,>=0.12.3->openeo) (25.0)\n",
            "Requirement already satisfied: six>=1.5 in /usr/local/lib/python3.11/dist-packages (from python-dateutil>=2.8.2->pandas>0.20.0->openeo) (1.17.0)\n",
            "Downloading openeo-0.43.0-py3-none-any.whl (315 kB)\n",
            "\u001b[2K   \u001b[90m━━━━━━━━━━━━━━━━━━━━━━━━━━━━━━━━━━━━━━━━\u001b[0m \u001b[32m315.8/315.8 kB\u001b[0m \u001b[31m5.2 MB/s\u001b[0m eta \u001b[36m0:00:00\u001b[0m\n",
            "\u001b[?25hDownloading Deprecated-1.2.18-py2.py3-none-any.whl (10.0 kB)\n",
            "Downloading pystac-1.13.0-py3-none-any.whl (206 kB)\n",
            "\u001b[2K   \u001b[90m━━━━━━━━━━━━━━━━━━━━━━━━━━━━━━━━━━━━━━━━\u001b[0m \u001b[32m206.8/206.8 kB\u001b[0m \u001b[31m14.9 MB/s\u001b[0m eta \u001b[36m0:00:00\u001b[0m\n",
            "\u001b[?25hDownloading xarray-2025.1.1-py3-none-any.whl (1.2 MB)\n",
            "\u001b[2K   \u001b[90m━━━━━━━━━━━━━━━━━━━━━━━━━━━━━━━━━━━━━━━━\u001b[0m \u001b[32m1.2/1.2 MB\u001b[0m \u001b[31m34.4 MB/s\u001b[0m eta \u001b[36m0:00:00\u001b[0m\n",
            "\u001b[?25hInstalling collected packages: deprecated, pystac, xarray, openeo\n",
            "  Attempting uninstall: xarray\n",
            "    Found existing installation: xarray 2025.7.1\n",
            "    Uninstalling xarray-2025.7.1:\n",
            "      Successfully uninstalled xarray-2025.7.1\n",
            "Successfully installed deprecated-1.2.18 openeo-0.43.0 pystac-1.13.0 xarray-2025.1.1\n",
            "Collecting rasterio\n",
            "  Downloading rasterio-1.4.3-cp311-cp311-manylinux_2_17_x86_64.manylinux2014_x86_64.whl.metadata (9.1 kB)\n",
            "Collecting affine (from rasterio)\n",
            "  Downloading affine-2.4.0-py3-none-any.whl.metadata (4.0 kB)\n",
            "Requirement already satisfied: attrs in /usr/local/lib/python3.11/dist-packages (from rasterio) (25.3.0)\n",
            "Requirement already satisfied: certifi in /usr/local/lib/python3.11/dist-packages (from rasterio) (2025.8.3)\n",
            "Requirement already satisfied: click>=4.0 in /usr/local/lib/python3.11/dist-packages (from rasterio) (8.2.1)\n",
            "Collecting cligj>=0.5 (from rasterio)\n",
            "  Downloading cligj-0.7.2-py3-none-any.whl.metadata (5.0 kB)\n",
            "Requirement already satisfied: numpy>=1.24 in /usr/local/lib/python3.11/dist-packages (from rasterio) (2.0.2)\n",
            "Collecting click-plugins (from rasterio)\n",
            "  Downloading click_plugins-1.1.1.2-py2.py3-none-any.whl.metadata (6.5 kB)\n",
            "Requirement already satisfied: pyparsing in /usr/local/lib/python3.11/dist-packages (from rasterio) (3.2.3)\n",
            "Downloading rasterio-1.4.3-cp311-cp311-manylinux_2_17_x86_64.manylinux2014_x86_64.whl (22.2 MB)\n",
            "\u001b[2K   \u001b[90m━━━━━━━━━━━━━━━━━━━━━━━━━━━━━━━━━━━━━━━━\u001b[0m \u001b[32m22.2/22.2 MB\u001b[0m \u001b[31m73.8 MB/s\u001b[0m eta \u001b[36m0:00:00\u001b[0m\n",
            "\u001b[?25hDownloading cligj-0.7.2-py3-none-any.whl (7.1 kB)\n",
            "Downloading affine-2.4.0-py3-none-any.whl (15 kB)\n",
            "Downloading click_plugins-1.1.1.2-py2.py3-none-any.whl (11 kB)\n",
            "Installing collected packages: cligj, click-plugins, affine, rasterio\n",
            "Successfully installed affine-2.4.0 click-plugins-1.1.1.2 cligj-0.7.2 rasterio-1.4.3\n"
          ]
        }
      ],
      "source": [
        "!pip install openeo\n",
        "!pip install rasterio"
      ]
    },
    {
      "cell_type": "code",
      "source": [
        "\n",
        "import rasterio\n",
        "import numpy as np\n",
        "import matplotlib.pyplot as plt\n",
        "from datetime import date\n",
        "import openeo"
      ],
      "metadata": {
        "id": "iFUe_D9bcoX2"
      },
      "execution_count": 2,
      "outputs": []
    },
    {
      "cell_type": "code",
      "source": [
        "connection = openeo.connect(\"https://openeo.dataspace.copernicus.eu\").authenticate_oidc()"
      ],
      "metadata": {
        "colab": {
          "base_uri": "https://localhost:8080/",
          "height": 69
        },
        "id": "kf_wapOzc0zz",
        "outputId": "d35ebd09-cd0b-4d2b-ec37-e338d12467be"
      },
      "execution_count": 3,
      "outputs": [
        {
          "output_type": "display_data",
          "data": {
            "text/html": [
              "Visit <a href=\"https://identity.dataspace.copernicus.eu/auth/realms/CDSE/device?user_code=LBRZ-YSUR\" title=\"Authenticate at https://identity.dataspace.copernicus.eu/auth/realms/CDSE/device?user_code=LBRZ-YSUR\" target=\"_blank\" rel=\"noopener noreferrer\">https://identity.dataspace.copernicus.eu/auth/realms/CDSE/device?user_code=LBRZ-YSUR</a> <a href=\"#\" onclick=\"navigator.clipboard.writeText('https://identity.dataspace.copernicus.eu/auth/realms/CDSE/device?user_code=LBRZ-YSUR');return false;\" title=\"Copy authentication URL to clipboard\">&#128203;</a> to authenticate."
            ]
          },
          "metadata": {}
        },
        {
          "output_type": "display_data",
          "data": {
            "text/html": [
              "✅ Authorized successfully"
            ]
          },
          "metadata": {}
        },
        {
          "output_type": "stream",
          "name": "stdout",
          "text": [
            "Authenticated using device code flow.\n"
          ]
        }
      ]
    },
    {
      "cell_type": "code",
      "source": [
        "#Areas de interes\n",
        "lago_atitlan = {\n",
        "    \"west\": -91.326256,\n",
        "    \"east\": -91.07151,\n",
        "    \"south\": 14.5948,\n",
        "    \"north\": 14.750979\n",
        "}\n",
        "lago_amatitlan = {\n",
        "    \"west\": -90.638065,\n",
        "    \"east\": -90.512924,\n",
        "    \"south\": 14.412347,\n",
        "    \"north\": 14.493799\n",
        "}"
      ],
      "metadata": {
        "id": "KHD5js6oc_iw"
      },
      "execution_count": 5,
      "outputs": []
    },
    {
      "cell_type": "code",
      "source": [
        "atitlan_cube = connection.load_collection(\n",
        "    \"SENTINEL2_L2A\",\n",
        "    spatial_extent=lago_atitlan,\n",
        "    temporal_extent=[\"2025-04-01\", \"2025-08-06\"],\n",
        "    bands=[\"B02\", \"B03\", \"B04\", \"B05\", \"B07\", \"B08\", \"B8A\", \"B11\", \"B12\"]\n",
        ")\n",
        "\n",
        "result_graph = atitlan_cube.save_result(format=\"GTIFF\")\n",
        "job = connection.create_job(result_graph)\n",
        "job.start_and_wait()\n",
        "job.download_results(\"../data/Bandas_Atitlan_Completas.tif\")\n"
      ],
      "metadata": {
        "colab": {
          "base_uri": "https://localhost:8080/"
        },
        "id": "nNRhT8pldTHg",
        "outputId": "4987b368-dfae-4c1f-9028-63faa6fb08d2"
      },
      "execution_count": null,
      "outputs": [
        {
          "output_type": "stream",
          "name": "stdout",
          "text": [
            "0:00:00 Job 'j-25080723075340738d53b8c8a6fb46d3': send 'start'\n",
            "0:00:13 Job 'j-25080723075340738d53b8c8a6fb46d3': created (progress 0%)\n",
            "0:00:18 Job 'j-25080723075340738d53b8c8a6fb46d3': queued (progress 0%)\n",
            "0:00:24 Job 'j-25080723075340738d53b8c8a6fb46d3': queued (progress 0%)\n",
            "0:00:32 Job 'j-25080723075340738d53b8c8a6fb46d3': queued (progress 0%)\n",
            "0:00:42 Job 'j-25080723075340738d53b8c8a6fb46d3': queued (progress 0%)\n",
            "0:00:55 Job 'j-25080723075340738d53b8c8a6fb46d3': queued (progress 0%)\n",
            "0:01:10 Job 'j-25080723075340738d53b8c8a6fb46d3': queued (progress 0%)\n",
            "0:01:30 Job 'j-25080723075340738d53b8c8a6fb46d3': running (progress N/A)\n",
            "0:01:54 Job 'j-25080723075340738d53b8c8a6fb46d3': running (progress N/A)\n",
            "0:02:24 Job 'j-25080723075340738d53b8c8a6fb46d3': running (progress N/A)\n",
            "0:03:01 Job 'j-25080723075340738d53b8c8a6fb46d3': running (progress N/A)\n",
            "0:03:48 Job 'j-25080723075340738d53b8c8a6fb46d3': running (progress N/A)\n"
          ]
        }
      ]
    },
    {
      "cell_type": "code",
      "source": [
        "import rasterio\n",
        "import numpy as np\n",
        "import matplotlib.pyplot as plt\n",
        "\n",
        "# Abrir el archivo multibanda\n",
        "tif_path = \"../data/Bandas_Atitlan_Completas.tif\"\n",
        "\n",
        "with rasterio.open(tif_path) as src:\n",
        "    bandas = src.read()\n",
        "    profile = src.profile  # Guardar metadata\n"
      ],
      "metadata": {
        "id": "VysjrmCsy0to"
      },
      "execution_count": null,
      "outputs": []
    },
    {
      "cell_type": "code",
      "source": [
        "# Asignar bandas por índice (rasterio usa base-1)\n",
        "B02 = bandas[0].astype(np.float32)  # Azul\n",
        "B03 = bandas[1].astype(np.float32)  # Verde\n",
        "B04 = bandas[2].astype(np.float32)  # Rojo\n",
        "B05 = bandas[3].astype(np.float32)  # RedEdge 1\n",
        "B07 = bandas[4].astype(np.float32)  # RedEdge 3\n",
        "B08 = bandas[5].astype(np.float32)  # NIR\n",
        "B8A = bandas[6].astype(np.float32)  # RedEdge 4\n",
        "B11 = bandas[7].astype(np.float32)  # SWIR 1\n",
        "B12 = bandas[8].astype(np.float32)  # SWIR 2\n"
      ],
      "metadata": {
        "id": "7nGsTht7ehV0"
      },
      "execution_count": null,
      "outputs": []
    },
    {
      "cell_type": "code",
      "source": [
        "# NDCI: (B05 - B04) / (B05 + B04)\n",
        "ndci = np.where((B05 + B04) == 0, 0, (B05 - B04) / (B05 + B04))\n",
        "\n",
        "# Modelo cúbico de clorofila-a\n",
        "chl = 826.57 * ndci**3 - 176.43 * ndci**2 + 19 * ndci + 4.071\n"
      ],
      "metadata": {
        "id": "E_SKw1R5zG1V"
      },
      "execution_count": null,
      "outputs": []
    },
    {
      "cell_type": "code",
      "source": [
        "plt.figure(figsize=(10, 6))\n",
        "plt.imshow(chl, cmap='viridis')\n",
        "plt.colorbar(label='Clorofila-a (estimada)')\n",
        "plt.title('Cianobacteria - Lago Atitlán')\n",
        "plt.axis('off')\n",
        "plt.show()\n"
      ],
      "metadata": {
        "id": "1g7WdMaXzISf"
      },
      "execution_count": null,
      "outputs": []
    },
    {
      "cell_type": "code",
      "source": [
        "output_path = \"../data/Atitlan_Chlorophyll_Map.tif\"\n",
        "\n",
        "with rasterio.open(\n",
        "    output_path,\n",
        "    'w',\n",
        "    driver='GTiff',\n",
        "    height=chl.shape[0],\n",
        "    width=chl.shape[1],\n",
        "    count=1,\n",
        "    dtype=chl.dtype,\n",
        "    crs=profile[\"crs\"],\n",
        "    transform=profile[\"transform\"]\n",
        ") as dst:\n",
        "    dst.write(chl, 1)\n"
      ],
      "metadata": {
        "id": "ftb82N3_zJmh"
      },
      "execution_count": null,
      "outputs": []
    },
    {
      "cell_type": "markdown",
      "source": [
        "Amatitlan\n"
      ],
      "metadata": {
        "id": "QfPj9NuEza-p"
      }
    },
    {
      "cell_type": "code",
      "source": [
        "\n",
        "\n",
        "amatitlan_cube = connection.load_collection(\n",
        "    \"SENTINEL2_L2A\",\n",
        "    spatial_extent=lago_amatitlan,\n",
        "    temporal_extent=[\"2025-04-01\", \"2025-08-06\"],  # ajusta fechas si quieres\n",
        "    bands=[\"B02\", \"B03\", \"B04\", \"B05\", \"B07\", \"B08\", \"B8A\", \"B11\", \"B12\"]\n",
        ")\n",
        "\n",
        "result_graph = amatitlan_cube.save_result(format=\"GTIFF\")\n",
        "job = connection.create_job(result_graph)\n",
        "job.start_and_wait()\n",
        "job.download_results(\"../data/Bandas_Amatitlan_Completas.tif\")"
      ],
      "metadata": {
        "id": "QgSX7rUczdJa"
      },
      "execution_count": null,
      "outputs": []
    },
    {
      "cell_type": "code",
      "source": [
        "import rasterio\n",
        "import numpy as np\n",
        "import matplotlib.pyplot as plt\n",
        "\n",
        "tif_path = \"../data/Bandas_Amatitlan_Completas.tif\"  # <-- usa tu ruta real\n",
        "\n",
        "with rasterio.open(tif_path) as src:\n",
        "    arr = src.read()          # (bands, rows, cols)\n",
        "    profile = src.profile     # para guardar luego con mismo CRS/transform\n",
        "\n",
        "# Mapeo de bandas (mismo orden en que pedimos en la descarga):\n",
        "B02 = arr[0].astype(np.float32)  # Azul\n",
        "B03 = arr[1].astype(np.float32)  # Verde\n",
        "B04 = arr[2].astype(np.float32)  # Rojo\n",
        "B05 = arr[3].astype(np.float32)  # RedEdge 1\n",
        "B07 = arr[4].astype(np.float32)  # RedEdge 3\n",
        "B08 = arr[5].astype(np.float32)  # NIR\n",
        "B8A = arr[6].astype(np.float32)  # RedEdge 4\n",
        "B11 = arr[7].astype(np.float32)  # SWIR 1\n",
        "B12 = arr[8].astype(np.float32)  # SWIR 2\n",
        "\n",
        "# --- Cyano/Chl-a (como en evalscript.js) ---\n",
        "# NDCI = (B05 - B04) / (B05 + B04)\n",
        "ndci = np.where((B05 + B04) == 0, 0, (B05 - B04) / (B05 + B04))\n",
        "\n",
        "# Clorofila-a (modelo cúbico del script)\n",
        "chl = 826.57 * ndci**3 - 176.43 * ndci**2 + 19 * ndci + 4.071\n",
        "\n",
        "# Visualizar\n",
        "plt.figure(figsize=(10, 6))\n",
        "plt.imshow(chl, cmap='viridis')\n",
        "plt.colorbar(label='Clorofila-a (estimada)')\n",
        "plt.title('Cianobacteria / Clorofila-a — Lago Amatitlán')\n",
        "plt.axis('off')\n",
        "plt.show()\n"
      ],
      "metadata": {
        "id": "dj1xxk3DziNQ"
      },
      "execution_count": null,
      "outputs": []
    },
    {
      "cell_type": "code",
      "source": [
        "out_path = \"../data/Amatitlan_Chlorophyll_Map.tif\"\n",
        "\n",
        "with rasterio.open(\n",
        "    out_path,\n",
        "    \"w\",\n",
        "    driver=\"GTiff\",\n",
        "    height=chl.shape[0],\n",
        "    width=chl.shape[1],\n",
        "    count=1,\n",
        "    dtype=chl.dtype,\n",
        "    crs=profile[\"crs\"],\n",
        "    transform=profile[\"transform\"]\n",
        ") as dst:\n",
        "    dst.write(chl, 1)\n",
        "\n",
        "print(\"Guardado:\", out_path)\n"
      ],
      "metadata": {
        "id": "1LT_VObAzkA_"
      },
      "execution_count": null,
      "outputs": []
    }
  ]
}