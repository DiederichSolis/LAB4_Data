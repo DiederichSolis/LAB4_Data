{
  "nbformat": 4,
  "nbformat_minor": 0,
  "metadata": {
    "colab": {
      "provenance": []
    },
    "kernelspec": {
      "name": "python3",
      "display_name": "Python 3"
    },
    "language_info": {
      "name": "python"
    }
  },
  "cells": [
    {
      "cell_type": "markdown",
      "source": [
        "## PARTE4"
      ],
      "metadata": {
        "id": "kPSTbpQZ0sTZ"
      }
    },
    {
      "cell_type": "code",
      "source": [
        "import os, re, glob, shutil\n",
        "import numpy as np\n",
        "import rasterio\n",
        "\n",
        "\n",
        "\n",
        "input_dir  = \"/content/drive/MyDrive/Colab_Notebooks/images/Amatitlan/\"\n",
        "out_index  = os.path.join(input_dir, \"cyano_index\")\n",
        "out_rgb    = os.path.join(input_dir, \"cyano_rgb\")\n",
        "os.makedirs(out_index, exist_ok=True)\n",
        "os.makedirs(out_rgb,   exist_ok=True)\n",
        "\n",
        "\n",
        "BAND_ORDER = [\"B02\",\"B03\",\"B04\",\"B05\",\"B07\",\"B08\",\"B8A\",\"B11\",\"B12\"]\n",
        "\n",
        "\n",
        "def safe_div(a,b):\n",
        "    return np.where(np.abs(b)>1e-10, a/b, 0.0)\n",
        "\n",
        "def water_mask(B):\n",
        "    # Parámetros del evalscript\n",
        "    MNDWI_thr = 0.42\n",
        "    NDWI_thr  = 0.40\n",
        "\n",
        "    r, g, b = B[\"B04\"], B[\"B03\"], B[\"B02\"]\n",
        "    nir, sw1, sw2 = B[\"B08\"], B[\"B11\"], B[\"B12\"]\n",
        "\n",
        "    ndvi  = safe_div(nir - r,   nir + r)\n",
        "    mndwi = safe_div(g   - sw1, g   + sw1)\n",
        "    ndwi  = safe_div(g   - nir, g   + nir)\n",
        "    ndwi_leaves = safe_div(nir - sw1, nir + sw1)\n",
        "    aweish  = b + 2.5*g - 1.5*(nir + sw1) - 0.25*sw2\n",
        "    aweinsh = 4*(g - sw1) - (0.25*nir + 2.75*sw1)\n",
        "\n",
        "    ws = ( (mndwi > MNDWI_thr) | (ndwi > NDWI_thr) |\n",
        "           (aweinsh > 0.1879) | (aweish > 0.1112) |\n",
        "           (ndvi < -0.2) | (ndwi_leaves > 1) )\n",
        "\n",
        "    # Filtro urbano/suelo desnudo\n",
        "    dbsi = safe_div((sw1 - g), (sw1 + g)) - ndvi\n",
        "    ws = ws & ~((aweinsh <= -0.03) | (dbsi > 0))\n",
        "    return ws\n",
        "\n",
        "def compute_fai(B):\n",
        "    # FAI(R, RE2, NIRnarrow) del evalscript\n",
        "    R   = B[\"B04\"]; RE2 = B[\"B07\"]; NIRn = B[\"B8A\"]\n",
        "    return (RE2 - R - (NIRn - R) * (783 - 665) / (865 - 665))\n",
        "\n",
        "def compute_chl(B):\n",
        "    # NDCI con B05 (RE1) y B04 (R)\n",
        "    R = B[\"B04\"]; RE1 = B[\"B05\"]\n",
        "    ndci = safe_div(RE1 - R, RE1 + R)\n",
        "    # Polinomio del script\n",
        "    chl = 826.57*ndci**3 - 176.43*ndci**2 + 19*ndci + 4.071\n",
        "    return chl\n",
        "\n",
        "def colorize(chl, water, fai, B):\n",
        "    # Emula la rampa del evalscript; no-agua: true color (3*R,G,B)\n",
        "    R, G, BL = B[\"B04\"], B[\"B03\"], B[\"B02\"]\n",
        "    h, w = chl.shape\n",
        "    rgb = np.zeros((h, w, 3), dtype=np.uint8)\n",
        "\n",
        "    # True color para no-agua\n",
        "    tc = np.stack([3*R, 3*G, 3*BL], axis=-1)\n",
        "    tc = np.clip(tc, 0, 1)\n",
        "    rgb[~water] = (tc[~water]*255).astype(np.uint8)\n",
        "\n",
        "    # En agua con vegetación flotante (FAI>0.08): naranja\n",
        "    veg = water & (fai > 0.08)\n",
        "    rgb[veg] = np.array([233,72,21], dtype=np.uint8)\n",
        "\n",
        "    # En agua sin vegetación flotante: color por umbral de chl\n",
        "    mask = water & ~veg\n",
        "    c = chl.copy()\n",
        "\n",
        "    def set_range(lo, hi, col):\n",
        "        m = mask & (c >= lo) & (c < hi)\n",
        "        rgb[m] = np.array(col, dtype=np.uint8)\n",
        "\n",
        "    # Tramos del evalscript (resumidos 1:1)\n",
        "    set_range(0,   0.5,  [0,0,255])\n",
        "    set_range(0.5, 1,    [0,0,255])\n",
        "    set_range(1,   2.5,  [0,59,255])\n",
        "    set_range(2.5, 3.5,  [0,98,255])\n",
        "    set_range(3.5, 5,    [15,113,141])\n",
        "    set_range(5,   7,    [14,141,120])\n",
        "    set_range(7,   8,    [13,141,103])\n",
        "    set_range(8,   10,   [30,226,28])\n",
        "    set_range(10,  14,   [42,226,28])\n",
        "    set_range(14,  18,   [68,226,28])\n",
        "    set_range(18,  20,   [68,226,28])\n",
        "    set_range(20,  24,   [134,247,0])\n",
        "    set_range(24,  28,   [140,247,0])\n",
        "    set_range(28,  30,   [205,237,0])\n",
        "    set_range(30,  38,   [208,240,0])\n",
        "    set_range(38,  45,   [208,240,0])\n",
        "    set_range(45,  50,   [251,210,3])\n",
        "    set_range(50,  75,   [248,207,2])\n",
        "    set_range(75,  90,   [134,247,0])\n",
        "    set_range(90,  100,  [245,164,9])\n",
        "    set_range(100, 150,  [240,159,8])\n",
        "    set_range(150, 250,  [237,157,7])\n",
        "    set_range(250, 300,  [239,118,15])\n",
        "    set_range(300, 350,  [239,101,15])\n",
        "    set_range(350, 450,  [239,100,14])\n",
        "    set_range(450, 500,  [233,72,21])\n",
        "\n",
        "    # >=500: naranja\n",
        "    m = mask & (c >= 500)\n",
        "    rgb[m] = np.array([233,72,21], dtype=np.uint8)\n",
        "\n",
        "    return rgb\n",
        "\n",
        "def load_bands(path, band_order=BAND_ORDER):\n",
        "    with rasterio.open(path) as src:\n",
        "        if src.count < len(band_order):\n",
        "            raise ValueError(f\"El TIF tiene {src.count} bandas, se requieren {len(band_order)}: {band_order}\")\n",
        "        B = {}\n",
        "        for i, name in enumerate(band_order, start=1):\n",
        "            B[name] = src.read(i).astype(np.float32)\n",
        "            # Normaliza a reflectancia si vienen en 0..10000 (típico L2A)\n",
        "            if B[name].max() > 1.5:\n",
        "                B[name] /= 10000.0\n",
        "        profile = src.profile\n",
        "    return B, profile\n",
        "\n",
        "\n",
        "tifs = sorted(glob.glob(os.path.join(input_dir, \"*.tif\")))\n",
        "print(f\"Encontrados {len(tifs)} GeoTIFF\")\n",
        "\n",
        "for tif in tifs:\n",
        "    try:\n",
        "        B, profile = load_bands(tif)\n",
        "        for k in [\"B02\",\"B03\",\"B04\",\"B05\",\"B07\",\"B08\",\"B8A\",\"B11\",\"B12\"]:\n",
        "            assert k in B, f\"Falta {k} en {os.path.basename(tif)}\"\n",
        "\n",
        "        wmask = water_mask(B)\n",
        "        fai   = compute_fai(B)\n",
        "        chl   = compute_chl(B)\n",
        "\n",
        "        # Deja NaN fuera de agua o con vegetación flotante\n",
        "        chl_masked = np.where(wmask & (fai <= 0.08), chl, np.nan).astype(np.float32)\n",
        "\n",
        "        # Guarda GeoTIFF (1 banda)\n",
        "        out_tif = os.path.join(\n",
        "            out_index,\n",
        "            re.sub(r\"\\.tif$\", \"_CYANO.tif\", os.path.basename(tif))\n",
        "        )\n",
        "        prof = profile.copy()\n",
        "        prof.update(count=1, dtype=\"float32\")\n",
        "        with rasterio.open(out_tif, \"w\", **prof) as dst:\n",
        "            dst.write(chl_masked, 1)\n",
        "\n",
        "        # Guarda PNG colorizado\n",
        "        rgb = colorize(chl, wmask, fai, B)\n",
        "        out_png = os.path.join(\n",
        "            out_rgb,\n",
        "            re.sub(r\"\\.tif$\", \"_CYANO.png\", os.path.basename(tif))\n",
        "        )\n",
        "        import imageio.v2 as iio\n",
        "        iio.imwrite(out_png, rgb)\n",
        "\n",
        "        print(f\"✓ {os.path.basename(tif)} -> {os.path.basename(out_tif)}, {os.path.basename(out_png)}\")\n",
        "\n",
        "    except Exception as e:\n",
        "        print(f\"✗ {os.path.basename(tif)}: {e}\")\n"
      ],
      "metadata": {
        "colab": {
          "base_uri": "https://localhost:8080/"
        },
        "id": "sx3EhZLmwjRy",
        "outputId": "d6acb087-934b-482d-894f-c9d457bb0dd7"
      },
      "execution_count": null,
      "outputs": [
        {
          "output_type": "stream",
          "name": "stderr",
          "text": [
            "WARNING:rasterio._env:CPLE_AppDefined in Bandas_Amatitlan_2025-02-07.tif: TIFFReadDirectory:Sum of Photometric type-related color channels and ExtraSamples doesn't match SamplesPerPixel. Defining non-color channels as ExtraSamples.\n",
            "WARNING:rasterio._env:CPLE_AppDefined in TIFFReadDirectory:Sum of Photometric type-related color channels and ExtraSamples doesn't match SamplesPerPixel. Defining non-color channels as ExtraSamples.\n"
          ]
        },
        {
          "output_type": "stream",
          "name": "stdout",
          "text": [
            "Encontrados 19 GeoTIFF\n"
          ]
        },
        {
          "output_type": "stream",
          "name": "stderr",
          "text": [
            "/tmp/ipython-input-2723835231.py:18: RuntimeWarning: divide by zero encountered in divide\n",
            "  return np.where(np.abs(b)>1e-10, a/b, 0.0)\n",
            "WARNING:rasterio._env:CPLE_AppDefined in Bandas_Amatitlan_2025-02-27.tif: TIFFReadDirectory:Sum of Photometric type-related color channels and ExtraSamples doesn't match SamplesPerPixel. Defining non-color channels as ExtraSamples.\n",
            "WARNING:rasterio._env:CPLE_AppDefined in TIFFReadDirectory:Sum of Photometric type-related color channels and ExtraSamples doesn't match SamplesPerPixel. Defining non-color channels as ExtraSamples.\n"
          ]
        },
        {
          "output_type": "stream",
          "name": "stdout",
          "text": [
            "✓ Bandas_Amatitlan_2025-02-07.tif -> Bandas_Amatitlan_2025-02-07_CYANO.tif, Bandas_Amatitlan_2025-02-07_CYANO.png\n"
          ]
        },
        {
          "output_type": "stream",
          "name": "stderr",
          "text": [
            "WARNING:rasterio._env:CPLE_AppDefined in Bandas_Amatitlan_2025-03-04.tif: TIFFReadDirectory:Sum of Photometric type-related color channels and ExtraSamples doesn't match SamplesPerPixel. Defining non-color channels as ExtraSamples.\n",
            "WARNING:rasterio._env:CPLE_AppDefined in TIFFReadDirectory:Sum of Photometric type-related color channels and ExtraSamples doesn't match SamplesPerPixel. Defining non-color channels as ExtraSamples.\n"
          ]
        },
        {
          "output_type": "stream",
          "name": "stdout",
          "text": [
            "✓ Bandas_Amatitlan_2025-02-27.tif -> Bandas_Amatitlan_2025-02-27_CYANO.tif, Bandas_Amatitlan_2025-02-27_CYANO.png\n"
          ]
        },
        {
          "output_type": "stream",
          "name": "stderr",
          "text": [
            "WARNING:rasterio._env:CPLE_AppDefined in Bandas_Amatitlan_2025-03-09.tif: TIFFReadDirectory:Sum of Photometric type-related color channels and ExtraSamples doesn't match SamplesPerPixel. Defining non-color channels as ExtraSamples.\n",
            "WARNING:rasterio._env:CPLE_AppDefined in TIFFReadDirectory:Sum of Photometric type-related color channels and ExtraSamples doesn't match SamplesPerPixel. Defining non-color channels as ExtraSamples.\n"
          ]
        },
        {
          "output_type": "stream",
          "name": "stdout",
          "text": [
            "✓ Bandas_Amatitlan_2025-03-04.tif -> Bandas_Amatitlan_2025-03-04_CYANO.tif, Bandas_Amatitlan_2025-03-04_CYANO.png\n"
          ]
        },
        {
          "output_type": "stream",
          "name": "stderr",
          "text": [
            "WARNING:rasterio._env:CPLE_AppDefined in Bandas_Amatitlan_2025-03-14.tif: TIFFReadDirectory:Sum of Photometric type-related color channels and ExtraSamples doesn't match SamplesPerPixel. Defining non-color channels as ExtraSamples.\n",
            "WARNING:rasterio._env:CPLE_AppDefined in TIFFReadDirectory:Sum of Photometric type-related color channels and ExtraSamples doesn't match SamplesPerPixel. Defining non-color channels as ExtraSamples.\n"
          ]
        },
        {
          "output_type": "stream",
          "name": "stdout",
          "text": [
            "✓ Bandas_Amatitlan_2025-03-09.tif -> Bandas_Amatitlan_2025-03-09_CYANO.tif, Bandas_Amatitlan_2025-03-09_CYANO.png\n"
          ]
        },
        {
          "output_type": "stream",
          "name": "stderr",
          "text": [
            "WARNING:rasterio._env:CPLE_AppDefined in Bandas_Amatitlan_2025-03-19.tif: TIFFReadDirectory:Sum of Photometric type-related color channels and ExtraSamples doesn't match SamplesPerPixel. Defining non-color channels as ExtraSamples.\n",
            "WARNING:rasterio._env:CPLE_AppDefined in TIFFReadDirectory:Sum of Photometric type-related color channels and ExtraSamples doesn't match SamplesPerPixel. Defining non-color channels as ExtraSamples.\n"
          ]
        },
        {
          "output_type": "stream",
          "name": "stdout",
          "text": [
            "✓ Bandas_Amatitlan_2025-03-14.tif -> Bandas_Amatitlan_2025-03-14_CYANO.tif, Bandas_Amatitlan_2025-03-14_CYANO.png\n"
          ]
        },
        {
          "output_type": "stream",
          "name": "stderr",
          "text": [
            "WARNING:rasterio._env:CPLE_AppDefined in Bandas_Amatitlan_2025-03-24.tif: TIFFReadDirectory:Sum of Photometric type-related color channels and ExtraSamples doesn't match SamplesPerPixel. Defining non-color channels as ExtraSamples.\n",
            "WARNING:rasterio._env:CPLE_AppDefined in TIFFReadDirectory:Sum of Photometric type-related color channels and ExtraSamples doesn't match SamplesPerPixel. Defining non-color channels as ExtraSamples.\n"
          ]
        },
        {
          "output_type": "stream",
          "name": "stdout",
          "text": [
            "✓ Bandas_Amatitlan_2025-03-19.tif -> Bandas_Amatitlan_2025-03-19_CYANO.tif, Bandas_Amatitlan_2025-03-19_CYANO.png\n"
          ]
        },
        {
          "output_type": "stream",
          "name": "stderr",
          "text": [
            "WARNING:rasterio._env:CPLE_AppDefined in Bandas_Amatitlan_2025-03-26.tif: TIFFReadDirectory:Sum of Photometric type-related color channels and ExtraSamples doesn't match SamplesPerPixel. Defining non-color channels as ExtraSamples.\n",
            "WARNING:rasterio._env:CPLE_AppDefined in TIFFReadDirectory:Sum of Photometric type-related color channels and ExtraSamples doesn't match SamplesPerPixel. Defining non-color channels as ExtraSamples.\n"
          ]
        },
        {
          "output_type": "stream",
          "name": "stdout",
          "text": [
            "✓ Bandas_Amatitlan_2025-03-24.tif -> Bandas_Amatitlan_2025-03-24_CYANO.tif, Bandas_Amatitlan_2025-03-24_CYANO.png\n"
          ]
        },
        {
          "output_type": "stream",
          "name": "stderr",
          "text": [
            "WARNING:rasterio._env:CPLE_AppDefined in Bandas_Amatitlan_2025-04-03.tif: TIFFReadDirectory:Sum of Photometric type-related color channels and ExtraSamples doesn't match SamplesPerPixel. Defining non-color channels as ExtraSamples.\n",
            "WARNING:rasterio._env:CPLE_AppDefined in TIFFReadDirectory:Sum of Photometric type-related color channels and ExtraSamples doesn't match SamplesPerPixel. Defining non-color channels as ExtraSamples.\n"
          ]
        },
        {
          "output_type": "stream",
          "name": "stdout",
          "text": [
            "✓ Bandas_Amatitlan_2025-03-26.tif -> Bandas_Amatitlan_2025-03-26_CYANO.tif, Bandas_Amatitlan_2025-03-26_CYANO.png\n"
          ]
        },
        {
          "output_type": "stream",
          "name": "stderr",
          "text": [
            "WARNING:rasterio._env:CPLE_AppDefined in Bandas_Amatitlan_2025-04-13.tif: TIFFReadDirectory:Sum of Photometric type-related color channels and ExtraSamples doesn't match SamplesPerPixel. Defining non-color channels as ExtraSamples.\n",
            "WARNING:rasterio._env:CPLE_AppDefined in TIFFReadDirectory:Sum of Photometric type-related color channels and ExtraSamples doesn't match SamplesPerPixel. Defining non-color channels as ExtraSamples.\n"
          ]
        },
        {
          "output_type": "stream",
          "name": "stdout",
          "text": [
            "✓ Bandas_Amatitlan_2025-04-03.tif -> Bandas_Amatitlan_2025-04-03_CYANO.tif, Bandas_Amatitlan_2025-04-03_CYANO.png\n"
          ]
        },
        {
          "output_type": "stream",
          "name": "stderr",
          "text": [
            "WARNING:rasterio._env:CPLE_AppDefined in Bandas_Amatitlan_2025-04-15.tif: TIFFReadDirectory:Sum of Photometric type-related color channels and ExtraSamples doesn't match SamplesPerPixel. Defining non-color channels as ExtraSamples.\n",
            "WARNING:rasterio._env:CPLE_AppDefined in TIFFReadDirectory:Sum of Photometric type-related color channels and ExtraSamples doesn't match SamplesPerPixel. Defining non-color channels as ExtraSamples.\n"
          ]
        },
        {
          "output_type": "stream",
          "name": "stdout",
          "text": [
            "✓ Bandas_Amatitlan_2025-04-13.tif -> Bandas_Amatitlan_2025-04-13_CYANO.tif, Bandas_Amatitlan_2025-04-13_CYANO.png\n"
          ]
        },
        {
          "output_type": "stream",
          "name": "stderr",
          "text": [
            "WARNING:rasterio._env:CPLE_AppDefined in Bandas_Amatitlan_2025-04-18.tif: TIFFReadDirectory:Sum of Photometric type-related color channels and ExtraSamples doesn't match SamplesPerPixel. Defining non-color channels as ExtraSamples.\n",
            "WARNING:rasterio._env:CPLE_AppDefined in TIFFReadDirectory:Sum of Photometric type-related color channels and ExtraSamples doesn't match SamplesPerPixel. Defining non-color channels as ExtraSamples.\n"
          ]
        },
        {
          "output_type": "stream",
          "name": "stdout",
          "text": [
            "✓ Bandas_Amatitlan_2025-04-15.tif -> Bandas_Amatitlan_2025-04-15_CYANO.tif, Bandas_Amatitlan_2025-04-15_CYANO.png\n"
          ]
        },
        {
          "output_type": "stream",
          "name": "stderr",
          "text": [
            "WARNING:rasterio._env:CPLE_AppDefined in Bandas_Amatitlan_2025-04-28.tif: TIFFReadDirectory:Sum of Photometric type-related color channels and ExtraSamples doesn't match SamplesPerPixel. Defining non-color channels as ExtraSamples.\n",
            "WARNING:rasterio._env:CPLE_AppDefined in TIFFReadDirectory:Sum of Photometric type-related color channels and ExtraSamples doesn't match SamplesPerPixel. Defining non-color channels as ExtraSamples.\n"
          ]
        },
        {
          "output_type": "stream",
          "name": "stdout",
          "text": [
            "✓ Bandas_Amatitlan_2025-04-18.tif -> Bandas_Amatitlan_2025-04-18_CYANO.tif, Bandas_Amatitlan_2025-04-18_CYANO.png\n"
          ]
        },
        {
          "output_type": "stream",
          "name": "stderr",
          "text": [
            "WARNING:rasterio._env:CPLE_AppDefined in Bandas_Amatitlan_2025-05-03.tif: TIFFReadDirectory:Sum of Photometric type-related color channels and ExtraSamples doesn't match SamplesPerPixel. Defining non-color channels as ExtraSamples.\n",
            "WARNING:rasterio._env:CPLE_AppDefined in TIFFReadDirectory:Sum of Photometric type-related color channels and ExtraSamples doesn't match SamplesPerPixel. Defining non-color channels as ExtraSamples.\n"
          ]
        },
        {
          "output_type": "stream",
          "name": "stdout",
          "text": [
            "✓ Bandas_Amatitlan_2025-04-28.tif -> Bandas_Amatitlan_2025-04-28_CYANO.tif, Bandas_Amatitlan_2025-04-28_CYANO.png\n"
          ]
        },
        {
          "output_type": "stream",
          "name": "stderr",
          "text": [
            "WARNING:rasterio._env:CPLE_AppDefined in Bandas_Amatitlan_2025-05-13.tif: TIFFReadDirectory:Sum of Photometric type-related color channels and ExtraSamples doesn't match SamplesPerPixel. Defining non-color channels as ExtraSamples.\n",
            "WARNING:rasterio._env:CPLE_AppDefined in TIFFReadDirectory:Sum of Photometric type-related color channels and ExtraSamples doesn't match SamplesPerPixel. Defining non-color channels as ExtraSamples.\n"
          ]
        },
        {
          "output_type": "stream",
          "name": "stdout",
          "text": [
            "✓ Bandas_Amatitlan_2025-05-03.tif -> Bandas_Amatitlan_2025-05-03_CYANO.tif, Bandas_Amatitlan_2025-05-03_CYANO.png\n"
          ]
        },
        {
          "output_type": "stream",
          "name": "stderr",
          "text": [
            "WARNING:rasterio._env:CPLE_AppDefined in Bandas_Amatitlan_2025-05-28.tif: TIFFReadDirectory:Sum of Photometric type-related color channels and ExtraSamples doesn't match SamplesPerPixel. Defining non-color channels as ExtraSamples.\n",
            "WARNING:rasterio._env:CPLE_AppDefined in TIFFReadDirectory:Sum of Photometric type-related color channels and ExtraSamples doesn't match SamplesPerPixel. Defining non-color channels as ExtraSamples.\n"
          ]
        },
        {
          "output_type": "stream",
          "name": "stdout",
          "text": [
            "✓ Bandas_Amatitlan_2025-05-13.tif -> Bandas_Amatitlan_2025-05-13_CYANO.tif, Bandas_Amatitlan_2025-05-13_CYANO.png\n"
          ]
        },
        {
          "output_type": "stream",
          "name": "stderr",
          "text": [
            "WARNING:rasterio._env:CPLE_AppDefined in Bandas_Amatitlan_2025-07-17.tif: TIFFReadDirectory:Sum of Photometric type-related color channels and ExtraSamples doesn't match SamplesPerPixel. Defining non-color channels as ExtraSamples.\n",
            "WARNING:rasterio._env:CPLE_AppDefined in TIFFReadDirectory:Sum of Photometric type-related color channels and ExtraSamples doesn't match SamplesPerPixel. Defining non-color channels as ExtraSamples.\n"
          ]
        },
        {
          "output_type": "stream",
          "name": "stdout",
          "text": [
            "✓ Bandas_Amatitlan_2025-05-28.tif -> Bandas_Amatitlan_2025-05-28_CYANO.tif, Bandas_Amatitlan_2025-05-28_CYANO.png\n"
          ]
        },
        {
          "output_type": "stream",
          "name": "stderr",
          "text": [
            "WARNING:rasterio._env:CPLE_AppDefined in Bandas_Amatitlan_2025-07-24.tif: TIFFReadDirectory:Sum of Photometric type-related color channels and ExtraSamples doesn't match SamplesPerPixel. Defining non-color channels as ExtraSamples.\n",
            "WARNING:rasterio._env:CPLE_AppDefined in TIFFReadDirectory:Sum of Photometric type-related color channels and ExtraSamples doesn't match SamplesPerPixel. Defining non-color channels as ExtraSamples.\n"
          ]
        },
        {
          "output_type": "stream",
          "name": "stdout",
          "text": [
            "✓ Bandas_Amatitlan_2025-07-17.tif -> Bandas_Amatitlan_2025-07-17_CYANO.tif, Bandas_Amatitlan_2025-07-17_CYANO.png\n"
          ]
        },
        {
          "output_type": "stream",
          "name": "stderr",
          "text": [
            "WARNING:rasterio._env:CPLE_AppDefined in Bandas_Amatitlan_2025-08-01.tif: TIFFReadDirectory:Sum of Photometric type-related color channels and ExtraSamples doesn't match SamplesPerPixel. Defining non-color channels as ExtraSamples.\n",
            "WARNING:rasterio._env:CPLE_AppDefined in TIFFReadDirectory:Sum of Photometric type-related color channels and ExtraSamples doesn't match SamplesPerPixel. Defining non-color channels as ExtraSamples.\n"
          ]
        },
        {
          "output_type": "stream",
          "name": "stdout",
          "text": [
            "✓ Bandas_Amatitlan_2025-07-24.tif -> Bandas_Amatitlan_2025-07-24_CYANO.tif, Bandas_Amatitlan_2025-07-24_CYANO.png\n",
            "✓ Bandas_Amatitlan_2025-08-01.tif -> Bandas_Amatitlan_2025-08-01_CYANO.tif, Bandas_Amatitlan_2025-08-01_CYANO.png\n"
          ]
        }
      ]
    },
    {
      "cell_type": "markdown",
      "source": [],
      "metadata": {
        "id": "QfPj9NuEza-p"
      }
    },
    {
      "cell_type": "code",
      "source": [
        "\n",
        "import os, re, glob, shutil\n",
        "import numpy as np\n",
        "import rasterio\n",
        "\n",
        "\n",
        "input_dir  = \"/content/drive/MyDrive/Colab_Notebooks/images/Atitlan/\"\n",
        "out_index  = os.path.join(input_dir, \"cyano_index\")   # GeoTIFF (chl)\n",
        "out_rgb    = os.path.join(input_dir, \"cyano_rgb\")     # PNG color\n",
        "os.makedirs(out_index, exist_ok=True)\n",
        "os.makedirs(out_rgb,   exist_ok=True)\n",
        "\n",
        "\n",
        "BAND_ORDER = [\"B02\",\"B03\",\"B04\",\"B05\",\"B07\",\"B08\",\"B8A\",\"B11\",\"B12\"]\n",
        "\n",
        "def safe_div(a,b):\n",
        "    return np.where(np.abs(b)>1e-10, a/b, 0.0)\n",
        "\n",
        "def water_mask(B):\n",
        "    MNDWI_thr = 0.42\n",
        "    NDWI_thr  = 0.40\n",
        "    r, g, b = B[\"B04\"], B[\"B03\"], B[\"B02\"]\n",
        "    nir, sw1, sw2 = B[\"B08\"], B[\"B11\"], B[\"B12\"]\n",
        "    ndvi  = safe_div(nir - r,   nir + r)\n",
        "    mndwi = safe_div(g   - sw1, g   + sw1)\n",
        "    ndwi  = safe_div(g   - nir, g   + nir)\n",
        "    ndwi_leaves = safe_div(nir - sw1, nir + sw1)\n",
        "    aweish  = b + 2.5*g - 1.5*(nir + sw1) - 0.25*sw2\n",
        "    aweinsh = 4*(g - sw1) - (0.25*nir + 2.75*sw1)\n",
        "    ws = ((mndwi > MNDWI_thr) | (ndwi > NDWI_thr) |\n",
        "          (aweinsh > 0.1879) | (aweish > 0.1112) |\n",
        "          (ndvi < -0.2) | (ndwi_leaves > 1))\n",
        "    dbsi = safe_div((sw1 - g), (sw1 + g)) - ndvi\n",
        "    ws = ws & ~((aweinsh <= -0.03) | (dbsi > 0))\n",
        "    return ws\n",
        "\n",
        "def compute_fai(B):\n",
        "    R, RE2, NIRn = B[\"B04\"], B[\"B07\"], B[\"B8A\"]\n",
        "    return (RE2 - R - (NIRn - R) * (783 - 665) / (865 - 665))\n",
        "\n",
        "def compute_chl(B):\n",
        "    R, RE1 = B[\"B04\"], B[\"B05\"]\n",
        "    ndci = safe_div(RE1 - R, RE1 + R)\n",
        "    return 826.57*ndci**3 - 176.43*ndci**2 + 19*ndci + 4.071\n",
        "\n",
        "def colorize(chl, water, fai, B):\n",
        "    R, G, BL = B[\"B04\"], B[\"B03\"], B[\"B02\"]\n",
        "    h, w = chl.shape\n",
        "    rgb = np.zeros((h, w, 3), dtype=np.uint8)\n",
        "    tc = np.stack([3*R, 3*G, 3*BL], axis=-1)\n",
        "    tc = np.clip(tc, 0, 1)\n",
        "    rgb[~water] = (tc[~water]*255).astype(np.uint8)\n",
        "    veg = water & (fai > 0.08)\n",
        "    rgb[veg] = np.array([233,72,21], dtype=np.uint8)\n",
        "    mask = water & ~veg\n",
        "    c = chl.copy()\n",
        "\n",
        "    def set_range(lo, hi, col):\n",
        "        m = mask & (c >= lo) & (c < hi)\n",
        "        rgb[m] = np.array(col, dtype=np.uint8)\n",
        "\n",
        "    set_range(0,0.5,[0,0,255]); set_range(0.5,1,[0,0,255])\n",
        "    set_range(1,2.5,[0,59,255]); set_range(2.5,3.5,[0,98,255])\n",
        "    set_range(3.5,5,[15,113,141]); set_range(5,7,[14,141,120])\n",
        "    set_range(7,8,[13,141,103]); set_range(8,10,[30,226,28])\n",
        "    set_range(10,14,[42,226,28]); set_range(14,18,[68,226,28])\n",
        "    set_range(18,20,[68,226,28]); set_range(20,24,[134,247,0])\n",
        "    set_range(24,28,[140,247,0]); set_range(28,30,[205,237,0])\n",
        "    set_range(30,38,[208,240,0]); set_range(38,45,[208,240,0])\n",
        "    set_range(45,50,[251,210,3]); set_range(50,75,[248,207,2])\n",
        "    set_range(75,90,[134,247,0]); set_range(90,100,[245,164,9])\n",
        "    set_range(100,150,[240,159,8]); set_range(150,250,[237,157,7])\n",
        "    set_range(250,300,[239,118,15]); set_range(300,350,[239,101,15])\n",
        "    set_range(350,450,[239,100,14]); set_range(450,500,[233,72,21])\n",
        "    rgb[mask & (c >= 500)] = np.array([233,72,21], dtype=np.uint8)\n",
        "    return rgb\n",
        "\n",
        "def load_bands(path, band_order=BAND_ORDER):\n",
        "    with rasterio.open(path) as src:\n",
        "        if src.count < len(band_order):\n",
        "            raise ValueError(f\"{os.path.basename(path)} tiene {src.count} bandas; se requieren {len(band_order)}: {band_order}\")\n",
        "        B = {}\n",
        "        for i, name in enumerate(band_order, start=1):\n",
        "            arr = src.read(i).astype(np.float32)\n",
        "            if arr.max() > 1.5:  # típicamente 0..10000 en L2A\n",
        "                arr /= 10000.0\n",
        "            B[name] = arr\n",
        "        profile = src.profile\n",
        "    return B, profile\n",
        "\n",
        "tifs = sorted(glob.glob(os.path.join(input_dir, \"Bandas_Atitlan_*.tif\"))) or \\\n",
        "       sorted(glob.glob(os.path.join(input_dir, \"*.tif\")))\n",
        "print(f\"Encontrados {len(tifs)} GeoTIFF de Atitlán\")\n",
        "\n",
        "for tif in tifs:\n",
        "    try:\n",
        "        B, profile = load_bands(tif)\n",
        "        for k in [\"B02\",\"B03\",\"B04\",\"B05\",\"B07\",\"B08\",\"B8A\",\"B11\",\"B12\"]:\n",
        "            assert k in B, f\"Falta {k} en {os.path.basename(tif)}\"\n",
        "\n",
        "        wmask = water_mask(B)\n",
        "        fai   = compute_fai(B)\n",
        "        chl   = compute_chl(B)\n",
        "        chl_masked = np.where(wmask & (fai <= 0.08), chl, np.nan).astype(np.float32)\n",
        "\n",
        "        out_tif = os.path.join(out_index, re.sub(r\"\\.tif$\", \"_CYANO.tif\", os.path.basename(tif)))\n",
        "        prof = profile.copy(); prof.update(count=1, dtype=\"float32\")\n",
        "        with rasterio.open(out_tif, \"w\", **prof) as dst:\n",
        "            dst.write(chl_masked, 1)\n",
        "\n",
        "        rgb = colorize(chl, wmask, fai, B)\n",
        "        out_png = os.path.join(out_rgb, re.sub(r\"\\.tif$\", \"_CYANO.png\", os.path.basename(tif)))\n",
        "        import imageio.v2 as iio\n",
        "        iio.imwrite(out_png, rgb)\n",
        "\n",
        "        print(f\"✓ {os.path.basename(tif)} -> {os.path.basename(out_tif)}, {os.path.basename(out_png)}\")\n",
        "    except Exception as e:\n",
        "        print(f\"✗ {os.path.basename(tif)}: {e}\")\n"
      ],
      "metadata": {
        "colab": {
          "base_uri": "https://localhost:8080/"
        },
        "id": "uhYz6y5zzNQ8",
        "outputId": "333738e7-6d72-494e-d574-e2f2b9601192"
      },
      "execution_count": null,
      "outputs": [
        {
          "output_type": "stream",
          "name": "stderr",
          "text": [
            "WARNING:rasterio._env:CPLE_AppDefined in Bandas_Atitlan_2025-02-07.tif: TIFFReadDirectory:Sum of Photometric type-related color channels and ExtraSamples doesn't match SamplesPerPixel. Defining non-color channels as ExtraSamples.\n",
            "WARNING:rasterio._env:CPLE_AppDefined in TIFFReadDirectory:Sum of Photometric type-related color channels and ExtraSamples doesn't match SamplesPerPixel. Defining non-color channels as ExtraSamples.\n"
          ]
        },
        {
          "output_type": "stream",
          "name": "stdout",
          "text": [
            "Encontrados 29 GeoTIFF de Atitlán\n"
          ]
        },
        {
          "output_type": "stream",
          "name": "stderr",
          "text": [
            "/tmp/ipython-input-4059493705.py:18: RuntimeWarning: divide by zero encountered in divide\n",
            "  return np.where(np.abs(b)>1e-10, a/b, 0.0)\n",
            "/tmp/ipython-input-4059493705.py:18: RuntimeWarning: invalid value encountered in divide\n",
            "  return np.where(np.abs(b)>1e-10, a/b, 0.0)\n",
            "WARNING:rasterio._env:CPLE_AppDefined in Bandas_Atitlan_2025-02-10.tif: TIFFReadDirectory:Sum of Photometric type-related color channels and ExtraSamples doesn't match SamplesPerPixel. Defining non-color channels as ExtraSamples.\n",
            "WARNING:rasterio._env:CPLE_AppDefined in TIFFReadDirectory:Sum of Photometric type-related color channels and ExtraSamples doesn't match SamplesPerPixel. Defining non-color channels as ExtraSamples.\n"
          ]
        },
        {
          "output_type": "stream",
          "name": "stdout",
          "text": [
            "✓ Bandas_Atitlan_2025-02-07.tif -> Bandas_Atitlan_2025-02-07_CYANO.tif, Bandas_Atitlan_2025-02-07_CYANO.png\n"
          ]
        },
        {
          "output_type": "stream",
          "name": "stderr",
          "text": [
            "WARNING:rasterio._env:CPLE_AppDefined in Bandas_Atitlan_2025-02-25.tif: TIFFReadDirectory:Sum of Photometric type-related color channels and ExtraSamples doesn't match SamplesPerPixel. Defining non-color channels as ExtraSamples.\n",
            "WARNING:rasterio._env:CPLE_AppDefined in TIFFReadDirectory:Sum of Photometric type-related color channels and ExtraSamples doesn't match SamplesPerPixel. Defining non-color channels as ExtraSamples.\n"
          ]
        },
        {
          "output_type": "stream",
          "name": "stdout",
          "text": [
            "✓ Bandas_Atitlan_2025-02-10.tif -> Bandas_Atitlan_2025-02-10_CYANO.tif, Bandas_Atitlan_2025-02-10_CYANO.png\n"
          ]
        },
        {
          "output_type": "stream",
          "name": "stderr",
          "text": [
            "WARNING:rasterio._env:CPLE_AppDefined in Bandas_Atitlan_2025-02-27.tif: TIFFReadDirectory:Sum of Photometric type-related color channels and ExtraSamples doesn't match SamplesPerPixel. Defining non-color channels as ExtraSamples.\n",
            "WARNING:rasterio._env:CPLE_AppDefined in TIFFReadDirectory:Sum of Photometric type-related color channels and ExtraSamples doesn't match SamplesPerPixel. Defining non-color channels as ExtraSamples.\n"
          ]
        },
        {
          "output_type": "stream",
          "name": "stdout",
          "text": [
            "✓ Bandas_Atitlan_2025-02-25.tif -> Bandas_Atitlan_2025-02-25_CYANO.tif, Bandas_Atitlan_2025-02-25_CYANO.png\n"
          ]
        },
        {
          "output_type": "stream",
          "name": "stderr",
          "text": [
            "WARNING:rasterio._env:CPLE_AppDefined in Bandas_Atitlan_2025-03-02.tif: TIFFReadDirectory:Sum of Photometric type-related color channels and ExtraSamples doesn't match SamplesPerPixel. Defining non-color channels as ExtraSamples.\n",
            "WARNING:rasterio._env:CPLE_AppDefined in TIFFReadDirectory:Sum of Photometric type-related color channels and ExtraSamples doesn't match SamplesPerPixel. Defining non-color channels as ExtraSamples.\n"
          ]
        },
        {
          "output_type": "stream",
          "name": "stdout",
          "text": [
            "✓ Bandas_Atitlan_2025-02-27.tif -> Bandas_Atitlan_2025-02-27_CYANO.tif, Bandas_Atitlan_2025-02-27_CYANO.png\n"
          ]
        },
        {
          "output_type": "stream",
          "name": "stderr",
          "text": [
            "WARNING:rasterio._env:CPLE_AppDefined in Bandas_Atitlan_2025-03-04.tif: TIFFReadDirectory:Sum of Photometric type-related color channels and ExtraSamples doesn't match SamplesPerPixel. Defining non-color channels as ExtraSamples.\n",
            "WARNING:rasterio._env:CPLE_AppDefined in TIFFReadDirectory:Sum of Photometric type-related color channels and ExtraSamples doesn't match SamplesPerPixel. Defining non-color channels as ExtraSamples.\n"
          ]
        },
        {
          "output_type": "stream",
          "name": "stdout",
          "text": [
            "✓ Bandas_Atitlan_2025-03-02.tif -> Bandas_Atitlan_2025-03-02_CYANO.tif, Bandas_Atitlan_2025-03-02_CYANO.png\n"
          ]
        },
        {
          "output_type": "stream",
          "name": "stderr",
          "text": [
            "WARNING:rasterio._env:CPLE_AppDefined in Bandas_Atitlan_2025-03-07.tif: TIFFReadDirectory:Sum of Photometric type-related color channels and ExtraSamples doesn't match SamplesPerPixel. Defining non-color channels as ExtraSamples.\n",
            "WARNING:rasterio._env:CPLE_AppDefined in TIFFReadDirectory:Sum of Photometric type-related color channels and ExtraSamples doesn't match SamplesPerPixel. Defining non-color channels as ExtraSamples.\n"
          ]
        },
        {
          "output_type": "stream",
          "name": "stdout",
          "text": [
            "✓ Bandas_Atitlan_2025-03-04.tif -> Bandas_Atitlan_2025-03-04_CYANO.tif, Bandas_Atitlan_2025-03-04_CYANO.png\n"
          ]
        },
        {
          "output_type": "stream",
          "name": "stderr",
          "text": [
            "WARNING:rasterio._env:CPLE_AppDefined in Bandas_Atitlan_2025-03-09.tif: TIFFReadDirectory:Sum of Photometric type-related color channels and ExtraSamples doesn't match SamplesPerPixel. Defining non-color channels as ExtraSamples.\n",
            "WARNING:rasterio._env:CPLE_AppDefined in TIFFReadDirectory:Sum of Photometric type-related color channels and ExtraSamples doesn't match SamplesPerPixel. Defining non-color channels as ExtraSamples.\n"
          ]
        },
        {
          "output_type": "stream",
          "name": "stdout",
          "text": [
            "✓ Bandas_Atitlan_2025-03-07.tif -> Bandas_Atitlan_2025-03-07_CYANO.tif, Bandas_Atitlan_2025-03-07_CYANO.png\n"
          ]
        },
        {
          "output_type": "stream",
          "name": "stderr",
          "text": [
            "WARNING:rasterio._env:CPLE_AppDefined in Bandas_Atitlan_2025-03-12.tif: TIFFReadDirectory:Sum of Photometric type-related color channels and ExtraSamples doesn't match SamplesPerPixel. Defining non-color channels as ExtraSamples.\n",
            "WARNING:rasterio._env:CPLE_AppDefined in TIFFReadDirectory:Sum of Photometric type-related color channels and ExtraSamples doesn't match SamplesPerPixel. Defining non-color channels as ExtraSamples.\n"
          ]
        },
        {
          "output_type": "stream",
          "name": "stdout",
          "text": [
            "✓ Bandas_Atitlan_2025-03-09.tif -> Bandas_Atitlan_2025-03-09_CYANO.tif, Bandas_Atitlan_2025-03-09_CYANO.png\n"
          ]
        },
        {
          "output_type": "stream",
          "name": "stderr",
          "text": [
            "WARNING:rasterio._env:CPLE_AppDefined in Bandas_Atitlan_2025-03-14.tif: TIFFReadDirectory:Sum of Photometric type-related color channels and ExtraSamples doesn't match SamplesPerPixel. Defining non-color channels as ExtraSamples.\n",
            "WARNING:rasterio._env:CPLE_AppDefined in TIFFReadDirectory:Sum of Photometric type-related color channels and ExtraSamples doesn't match SamplesPerPixel. Defining non-color channels as ExtraSamples.\n"
          ]
        },
        {
          "output_type": "stream",
          "name": "stdout",
          "text": [
            "✓ Bandas_Atitlan_2025-03-12.tif -> Bandas_Atitlan_2025-03-12_CYANO.tif, Bandas_Atitlan_2025-03-12_CYANO.png\n"
          ]
        },
        {
          "output_type": "stream",
          "name": "stderr",
          "text": [
            "WARNING:rasterio._env:CPLE_AppDefined in Bandas_Atitlan_2025-03-19.tif: TIFFReadDirectory:Sum of Photometric type-related color channels and ExtraSamples doesn't match SamplesPerPixel. Defining non-color channels as ExtraSamples.\n",
            "WARNING:rasterio._env:CPLE_AppDefined in TIFFReadDirectory:Sum of Photometric type-related color channels and ExtraSamples doesn't match SamplesPerPixel. Defining non-color channels as ExtraSamples.\n"
          ]
        },
        {
          "output_type": "stream",
          "name": "stdout",
          "text": [
            "✓ Bandas_Atitlan_2025-03-14.tif -> Bandas_Atitlan_2025-03-14_CYANO.tif, Bandas_Atitlan_2025-03-14_CYANO.png\n"
          ]
        },
        {
          "output_type": "stream",
          "name": "stderr",
          "text": [
            "WARNING:rasterio._env:CPLE_AppDefined in Bandas_Atitlan_2025-03-22.tif: TIFFReadDirectory:Sum of Photometric type-related color channels and ExtraSamples doesn't match SamplesPerPixel. Defining non-color channels as ExtraSamples.\n",
            "WARNING:rasterio._env:CPLE_AppDefined in TIFFReadDirectory:Sum of Photometric type-related color channels and ExtraSamples doesn't match SamplesPerPixel. Defining non-color channels as ExtraSamples.\n"
          ]
        },
        {
          "output_type": "stream",
          "name": "stdout",
          "text": [
            "✓ Bandas_Atitlan_2025-03-19.tif -> Bandas_Atitlan_2025-03-19_CYANO.tif, Bandas_Atitlan_2025-03-19_CYANO.png\n"
          ]
        },
        {
          "output_type": "stream",
          "name": "stderr",
          "text": [
            "WARNING:rasterio._env:CPLE_AppDefined in Bandas_Atitlan_2025-03-24.tif: TIFFReadDirectory:Sum of Photometric type-related color channels and ExtraSamples doesn't match SamplesPerPixel. Defining non-color channels as ExtraSamples.\n",
            "WARNING:rasterio._env:CPLE_AppDefined in TIFFReadDirectory:Sum of Photometric type-related color channels and ExtraSamples doesn't match SamplesPerPixel. Defining non-color channels as ExtraSamples.\n"
          ]
        },
        {
          "output_type": "stream",
          "name": "stdout",
          "text": [
            "✓ Bandas_Atitlan_2025-03-22.tif -> Bandas_Atitlan_2025-03-22_CYANO.tif, Bandas_Atitlan_2025-03-22_CYANO.png\n"
          ]
        },
        {
          "output_type": "stream",
          "name": "stderr",
          "text": [
            "WARNING:rasterio._env:CPLE_AppDefined in Bandas_Atitlan_2025-03-26.tif: TIFFReadDirectory:Sum of Photometric type-related color channels and ExtraSamples doesn't match SamplesPerPixel. Defining non-color channels as ExtraSamples.\n",
            "WARNING:rasterio._env:CPLE_AppDefined in TIFFReadDirectory:Sum of Photometric type-related color channels and ExtraSamples doesn't match SamplesPerPixel. Defining non-color channels as ExtraSamples.\n"
          ]
        },
        {
          "output_type": "stream",
          "name": "stdout",
          "text": [
            "✓ Bandas_Atitlan_2025-03-24.tif -> Bandas_Atitlan_2025-03-24_CYANO.tif, Bandas_Atitlan_2025-03-24_CYANO.png\n"
          ]
        },
        {
          "output_type": "stream",
          "name": "stderr",
          "text": [
            "WARNING:rasterio._env:CPLE_AppDefined in Bandas_Atitlan_2025-04-03.tif: TIFFReadDirectory:Sum of Photometric type-related color channels and ExtraSamples doesn't match SamplesPerPixel. Defining non-color channels as ExtraSamples.\n",
            "WARNING:rasterio._env:CPLE_AppDefined in TIFFReadDirectory:Sum of Photometric type-related color channels and ExtraSamples doesn't match SamplesPerPixel. Defining non-color channels as ExtraSamples.\n"
          ]
        },
        {
          "output_type": "stream",
          "name": "stdout",
          "text": [
            "✓ Bandas_Atitlan_2025-03-26.tif -> Bandas_Atitlan_2025-03-26_CYANO.tif, Bandas_Atitlan_2025-03-26_CYANO.png\n"
          ]
        },
        {
          "output_type": "stream",
          "name": "stderr",
          "text": [
            "WARNING:rasterio._env:CPLE_AppDefined in Bandas_Atitlan_2025-04-11.tif: TIFFReadDirectory:Sum of Photometric type-related color channels and ExtraSamples doesn't match SamplesPerPixel. Defining non-color channels as ExtraSamples.\n",
            "WARNING:rasterio._env:CPLE_AppDefined in TIFFReadDirectory:Sum of Photometric type-related color channels and ExtraSamples doesn't match SamplesPerPixel. Defining non-color channels as ExtraSamples.\n"
          ]
        },
        {
          "output_type": "stream",
          "name": "stdout",
          "text": [
            "✓ Bandas_Atitlan_2025-04-03.tif -> Bandas_Atitlan_2025-04-03_CYANO.tif, Bandas_Atitlan_2025-04-03_CYANO.png\n"
          ]
        },
        {
          "output_type": "stream",
          "name": "stderr",
          "text": [
            "WARNING:rasterio._env:CPLE_AppDefined in Bandas_Atitlan_2025-04-13.tif: TIFFReadDirectory:Sum of Photometric type-related color channels and ExtraSamples doesn't match SamplesPerPixel. Defining non-color channels as ExtraSamples.\n",
            "WARNING:rasterio._env:CPLE_AppDefined in TIFFReadDirectory:Sum of Photometric type-related color channels and ExtraSamples doesn't match SamplesPerPixel. Defining non-color channels as ExtraSamples.\n"
          ]
        },
        {
          "output_type": "stream",
          "name": "stdout",
          "text": [
            "✓ Bandas_Atitlan_2025-04-11.tif -> Bandas_Atitlan_2025-04-11_CYANO.tif, Bandas_Atitlan_2025-04-11_CYANO.png\n"
          ]
        },
        {
          "output_type": "stream",
          "name": "stderr",
          "text": [
            "WARNING:rasterio._env:CPLE_AppDefined in Bandas_Atitlan_2025-04-15.tif: TIFFReadDirectory:Sum of Photometric type-related color channels and ExtraSamples doesn't match SamplesPerPixel. Defining non-color channels as ExtraSamples.\n",
            "WARNING:rasterio._env:CPLE_AppDefined in TIFFReadDirectory:Sum of Photometric type-related color channels and ExtraSamples doesn't match SamplesPerPixel. Defining non-color channels as ExtraSamples.\n"
          ]
        },
        {
          "output_type": "stream",
          "name": "stdout",
          "text": [
            "✓ Bandas_Atitlan_2025-04-13.tif -> Bandas_Atitlan_2025-04-13_CYANO.tif, Bandas_Atitlan_2025-04-13_CYANO.png\n"
          ]
        },
        {
          "output_type": "stream",
          "name": "stderr",
          "text": [
            "WARNING:rasterio._env:CPLE_AppDefined in Bandas_Atitlan_2025-04-16.tif: TIFFReadDirectory:Sum of Photometric type-related color channels and ExtraSamples doesn't match SamplesPerPixel. Defining non-color channels as ExtraSamples.\n",
            "WARNING:rasterio._env:CPLE_AppDefined in TIFFReadDirectory:Sum of Photometric type-related color channels and ExtraSamples doesn't match SamplesPerPixel. Defining non-color channels as ExtraSamples.\n"
          ]
        },
        {
          "output_type": "stream",
          "name": "stdout",
          "text": [
            "✓ Bandas_Atitlan_2025-04-15.tif -> Bandas_Atitlan_2025-04-15_CYANO.tif, Bandas_Atitlan_2025-04-15_CYANO.png\n"
          ]
        },
        {
          "output_type": "stream",
          "name": "stderr",
          "text": [
            "WARNING:rasterio._env:CPLE_AppDefined in Bandas_Atitlan_2025-04-18.tif: TIFFReadDirectory:Sum of Photometric type-related color channels and ExtraSamples doesn't match SamplesPerPixel. Defining non-color channels as ExtraSamples.\n",
            "WARNING:rasterio._env:CPLE_AppDefined in TIFFReadDirectory:Sum of Photometric type-related color channels and ExtraSamples doesn't match SamplesPerPixel. Defining non-color channels as ExtraSamples.\n"
          ]
        },
        {
          "output_type": "stream",
          "name": "stdout",
          "text": [
            "✓ Bandas_Atitlan_2025-04-16.tif -> Bandas_Atitlan_2025-04-16_CYANO.tif, Bandas_Atitlan_2025-04-16_CYANO.png\n"
          ]
        },
        {
          "output_type": "stream",
          "name": "stderr",
          "text": [
            "WARNING:rasterio._env:CPLE_AppDefined in Bandas_Atitlan_2025-04-28.tif: TIFFReadDirectory:Sum of Photometric type-related color channels and ExtraSamples doesn't match SamplesPerPixel. Defining non-color channels as ExtraSamples.\n",
            "WARNING:rasterio._env:CPLE_AppDefined in TIFFReadDirectory:Sum of Photometric type-related color channels and ExtraSamples doesn't match SamplesPerPixel. Defining non-color channels as ExtraSamples.\n"
          ]
        },
        {
          "output_type": "stream",
          "name": "stdout",
          "text": [
            "✓ Bandas_Atitlan_2025-04-18.tif -> Bandas_Atitlan_2025-04-18_CYANO.tif, Bandas_Atitlan_2025-04-18_CYANO.png\n"
          ]
        },
        {
          "output_type": "stream",
          "name": "stderr",
          "text": [
            "WARNING:rasterio._env:CPLE_AppDefined in Bandas_Atitlan_2025-05-03.tif: TIFFReadDirectory:Sum of Photometric type-related color channels and ExtraSamples doesn't match SamplesPerPixel. Defining non-color channels as ExtraSamples.\n",
            "WARNING:rasterio._env:CPLE_AppDefined in TIFFReadDirectory:Sum of Photometric type-related color channels and ExtraSamples doesn't match SamplesPerPixel. Defining non-color channels as ExtraSamples.\n"
          ]
        },
        {
          "output_type": "stream",
          "name": "stdout",
          "text": [
            "✓ Bandas_Atitlan_2025-04-28.tif -> Bandas_Atitlan_2025-04-28_CYANO.tif, Bandas_Atitlan_2025-04-28_CYANO.png\n"
          ]
        },
        {
          "output_type": "stream",
          "name": "stderr",
          "text": [
            "WARNING:rasterio._env:CPLE_AppDefined in Bandas_Atitlan_2025-05-13.tif: TIFFReadDirectory:Sum of Photometric type-related color channels and ExtraSamples doesn't match SamplesPerPixel. Defining non-color channels as ExtraSamples.\n",
            "WARNING:rasterio._env:CPLE_AppDefined in TIFFReadDirectory:Sum of Photometric type-related color channels and ExtraSamples doesn't match SamplesPerPixel. Defining non-color channels as ExtraSamples.\n"
          ]
        },
        {
          "output_type": "stream",
          "name": "stdout",
          "text": [
            "✓ Bandas_Atitlan_2025-05-03.tif -> Bandas_Atitlan_2025-05-03_CYANO.tif, Bandas_Atitlan_2025-05-03_CYANO.png\n"
          ]
        },
        {
          "output_type": "stream",
          "name": "stderr",
          "text": [
            "WARNING:rasterio._env:CPLE_AppDefined in Bandas_Atitlan_2025-05-28.tif: TIFFReadDirectory:Sum of Photometric type-related color channels and ExtraSamples doesn't match SamplesPerPixel. Defining non-color channels as ExtraSamples.\n",
            "WARNING:rasterio._env:CPLE_AppDefined in TIFFReadDirectory:Sum of Photometric type-related color channels and ExtraSamples doesn't match SamplesPerPixel. Defining non-color channels as ExtraSamples.\n"
          ]
        },
        {
          "output_type": "stream",
          "name": "stdout",
          "text": [
            "✓ Bandas_Atitlan_2025-05-13.tif -> Bandas_Atitlan_2025-05-13_CYANO.tif, Bandas_Atitlan_2025-05-13_CYANO.png\n"
          ]
        },
        {
          "output_type": "stream",
          "name": "stderr",
          "text": [
            "WARNING:rasterio._env:CPLE_AppDefined in Bandas_Atitlan_2025-07-10.tif: TIFFReadDirectory:Sum of Photometric type-related color channels and ExtraSamples doesn't match SamplesPerPixel. Defining non-color channels as ExtraSamples.\n",
            "WARNING:rasterio._env:CPLE_AppDefined in TIFFReadDirectory:Sum of Photometric type-related color channels and ExtraSamples doesn't match SamplesPerPixel. Defining non-color channels as ExtraSamples.\n"
          ]
        },
        {
          "output_type": "stream",
          "name": "stdout",
          "text": [
            "✓ Bandas_Atitlan_2025-05-28.tif -> Bandas_Atitlan_2025-05-28_CYANO.tif, Bandas_Atitlan_2025-05-28_CYANO.png\n"
          ]
        },
        {
          "output_type": "stream",
          "name": "stderr",
          "text": [
            "WARNING:rasterio._env:CPLE_AppDefined in Bandas_Atitlan_2025-07-17.tif: TIFFReadDirectory:Sum of Photometric type-related color channels and ExtraSamples doesn't match SamplesPerPixel. Defining non-color channels as ExtraSamples.\n",
            "WARNING:rasterio._env:CPLE_AppDefined in TIFFReadDirectory:Sum of Photometric type-related color channels and ExtraSamples doesn't match SamplesPerPixel. Defining non-color channels as ExtraSamples.\n"
          ]
        },
        {
          "output_type": "stream",
          "name": "stdout",
          "text": [
            "✓ Bandas_Atitlan_2025-07-10.tif -> Bandas_Atitlan_2025-07-10_CYANO.tif, Bandas_Atitlan_2025-07-10_CYANO.png\n"
          ]
        },
        {
          "output_type": "stream",
          "name": "stderr",
          "text": [
            "WARNING:rasterio._env:CPLE_AppDefined in Bandas_Atitlan_2025-07-20.tif: TIFFReadDirectory:Sum of Photometric type-related color channels and ExtraSamples doesn't match SamplesPerPixel. Defining non-color channels as ExtraSamples.\n",
            "WARNING:rasterio._env:CPLE_AppDefined in TIFFReadDirectory:Sum of Photometric type-related color channels and ExtraSamples doesn't match SamplesPerPixel. Defining non-color channels as ExtraSamples.\n"
          ]
        },
        {
          "output_type": "stream",
          "name": "stdout",
          "text": [
            "✓ Bandas_Atitlan_2025-07-17.tif -> Bandas_Atitlan_2025-07-17_CYANO.tif, Bandas_Atitlan_2025-07-17_CYANO.png\n"
          ]
        },
        {
          "output_type": "stream",
          "name": "stderr",
          "text": [
            "WARNING:rasterio._env:CPLE_AppDefined in Bandas_Atitlan_2025-07-24.tif: TIFFReadDirectory:Sum of Photometric type-related color channels and ExtraSamples doesn't match SamplesPerPixel. Defining non-color channels as ExtraSamples.\n",
            "WARNING:rasterio._env:CPLE_AppDefined in TIFFReadDirectory:Sum of Photometric type-related color channels and ExtraSamples doesn't match SamplesPerPixel. Defining non-color channels as ExtraSamples.\n"
          ]
        },
        {
          "output_type": "stream",
          "name": "stdout",
          "text": [
            "✓ Bandas_Atitlan_2025-07-20.tif -> Bandas_Atitlan_2025-07-20_CYANO.tif, Bandas_Atitlan_2025-07-20_CYANO.png\n"
          ]
        },
        {
          "output_type": "stream",
          "name": "stderr",
          "text": [
            "WARNING:rasterio._env:CPLE_AppDefined in Bandas_Atitlan_2025-08-01.tif: TIFFReadDirectory:Sum of Photometric type-related color channels and ExtraSamples doesn't match SamplesPerPixel. Defining non-color channels as ExtraSamples.\n",
            "WARNING:rasterio._env:CPLE_AppDefined in TIFFReadDirectory:Sum of Photometric type-related color channels and ExtraSamples doesn't match SamplesPerPixel. Defining non-color channels as ExtraSamples.\n"
          ]
        },
        {
          "output_type": "stream",
          "name": "stdout",
          "text": [
            "✓ Bandas_Atitlan_2025-07-24.tif -> Bandas_Atitlan_2025-07-24_CYANO.tif, Bandas_Atitlan_2025-07-24_CYANO.png\n",
            "✓ Bandas_Atitlan_2025-08-01.tif -> Bandas_Atitlan_2025-08-01_CYANO.tif, Bandas_Atitlan_2025-08-01_CYANO.png\n"
          ]
        }
      ]
    },
    {
      "cell_type": "markdown",
      "source": [
        "## PARTE 5"
      ],
      "metadata": {
        "id": "p4bMUqPc3yri"
      }
    },
    {
      "cell_type": "code",
      "source": [
        "import os, re, glob\n",
        "import numpy as np\n",
        "import rasterio\n",
        "from datetime import datetime\n",
        "\n",
        "def build_stack(index_dir: str, lake_tag: str):\n",
        "    \"\"\"\n",
        "    index_dir: carpeta donde están los *_CYANO.tif de ese lago (cyano_index/)\n",
        "    lake_tag:  'Atitlan' o 'Amatitlan' (para filtrar por nombre de archivo)\n",
        "    \"\"\"\n",
        "    pattern = os.path.join(index_dir, f\"Bandas_{lake_tag}_*_CYANO.tif\")\n",
        "    tifs = sorted(glob.glob(pattern))\n",
        "    if not tifs:\n",
        "        raise FileNotFoundError(f\"No encontré TIFs con patrón: {pattern}\")\n",
        "\n",
        "    # ordenar por fecha en el nombre\n",
        "    def date_key(p):\n",
        "        m = re.search(r\"(\\d{4}-\\d{2}-\\d{2})\", os.path.basename(p))\n",
        "        return datetime.strptime(m.group(1), \"%Y-%m-%d\") if m else datetime.min\n",
        "    tifs = sorted(tifs, key=date_key)\n",
        "\n",
        "    arrays, dates = [], []\n",
        "    ref_shape = None\n",
        "\n",
        "    for p in tifs:\n",
        "        with rasterio.open(p) as src:\n",
        "            a = src.read(1).astype(np.float32)   # 1 banda (chl con NaN fuera de agua)\n",
        "            if ref_shape is None:\n",
        "                ref_shape = a.shape\n",
        "            if a.shape != ref_shape:\n",
        "                raise ValueError(\n",
        "                    f\"Las dimensiones no coinciden: {p} {a.shape} vs {ref_shape}. \"\n",
        "                    \"Asegura misma AOI/resolución; si quieres, te paso un bloque para reamostrar.\"\n",
        "                )\n",
        "            arrays.append(a)\n",
        "            dates.append(re.search(r\"(\\d{4}-\\d{2}-\\d{2})\", os.path.basename(p)).group(1))\n",
        "\n",
        "    data = np.stack(arrays, axis=0)  # (t, h, w)\n",
        "\n",
        "    # Guarda NPZ comprimido junto a los TIF\n",
        "    out_npz = os.path.join(index_dir, f\"{lake_tag}_CYANO_stack.npz\")\n",
        "    np.savez_compressed(out_npz, data=data, dates=np.array(dates), nodata=np.nan)\n",
        "\n",
        "    print(f\"{lake_tag}: stack {data.shape} guardado en {out_npz}\")\n",
        "    return data, dates\n",
        "\n",
        "# === RUTAS (ajústalas a tu Drive si fuese necesario) ===\n",
        "dir_atitlan   = \"/content/drive/MyDrive/Colab_Notebooks/images/Atitlan/cyano_index\"\n",
        "dir_amatitlan = \"/content/drive/MyDrive/Colab_Notebooks/images/Amatitlan/cyano_index\"\n",
        "\n",
        "stack_atitlan,   dates_atitlan   = build_stack(dir_atitlan,   \"Atitlan\")\n",
        "stack_amatitlan, dates_amatitlan = build_stack(dir_amatitlan, \"Amatitlan\")\n",
        "\n",
        "# Vista rápida (opcional):\n",
        "print(\"Atitlán:\",   stack_atitlan.shape,   \"fechas:\", len(dates_atitlan))\n",
        "print(\"Amatitlán:\", stack_amatitlan.shape, \"fechas:\", len(dates_amatitlan))\n"
      ],
      "metadata": {
        "colab": {
          "base_uri": "https://localhost:8080/"
        },
        "id": "Hxu06Z0D30go",
        "outputId": "e99810f2-65f9-457f-cf7c-7efa52717e3b"
      },
      "execution_count": null,
      "outputs": [
        {
          "output_type": "stream",
          "name": "stdout",
          "text": [
            "Atitlan: stack (29, 1751, 2759) guardado en /content/drive/MyDrive/Colab_Notebooks/images/Atitlan/cyano_index/Atitlan_CYANO_stack.npz\n",
            "Amatitlan: stack (19, 917, 1360) guardado en /content/drive/MyDrive/Colab_Notebooks/images/Amatitlan/cyano_index/Amatitlan_CYANO_stack.npz\n",
            "Atitlán: (29, 1751, 2759) fechas: 29\n",
            "Amatitlán: (19, 917, 1360) fechas: 19\n"
          ]
        }
      ]
    },
    {
      "cell_type": "markdown",
      "source": [
        "## PARTE 6\n"
      ],
      "metadata": {
        "id": "DFckacrK5k6W"
      }
    },
    {
      "cell_type": "code",
      "source": [
        " # =========================\n",
        "# PASO 6: Estadísticos y series temporales\n",
        "# =========================\n",
        "import os\n",
        "import numpy as np\n",
        "import pandas as pd\n",
        "import matplotlib.pyplot as plt\n",
        "from datetime import datetime\n",
        "\n",
        "\n",
        "npz_atitlan   = \"/content/drive/MyDrive/Colab_Notebooks/images/Atitlan/cyano_index/Atitlan_CYANO_stack.npz\"\n",
        "npz_amatitlan = \"/content/drive/MyDrive/Colab_Notebooks/images/Amatitlan/cyano_index/Amatitlan_CYANO_stack.npz\"\n",
        "\n",
        "\n",
        "out_base = \"/content/drive/MyDrive/Colab_Notebooks/images/Resultados\"\n",
        "os.makedirs(out_base, exist_ok=True)\n",
        "\n",
        "def summarize_npz(npz_path: str, lake_name: str) -> pd.DataFrame:\n",
        "    \"\"\"Carga un stack NPZ (t, h, w) y resume por fecha (ignorando NaN).\"\"\"\n",
        "    npz = np.load(npz_path, allow_pickle=True)\n",
        "    data  = npz[\"data\"]     # (t, h, w) con NaN fuera de agua/vegetación\n",
        "    dates = npz[\"dates\"]    # array de strings 'YYYY-MM-DD'\n",
        "    # nodata = npz[\"nodata\"]  # por si lo necesitas\n",
        "\n",
        "    rows = []\n",
        "    for i, d in enumerate(dates):\n",
        "        arr = data[i]\n",
        "        # Aplanar y quitar NaN\n",
        "        v = arr[~np.isnan(arr)]\n",
        "        if v.size == 0:\n",
        "            mean = median = std = p10 = p90 = np.nan\n",
        "            valid = 0\n",
        "        else:\n",
        "            mean   = float(np.nanmean(v))\n",
        "            median = float(np.nanmedian(v))\n",
        "            std    = float(np.nanstd(v, ddof=1)) if v.size > 1 else 0.0\n",
        "            p10    = float(np.nanpercentile(v, 10))\n",
        "            p90    = float(np.nanpercentile(v, 90))\n",
        "            valid  = int(v.size)\n",
        "        rows.append({\n",
        "            \"date\": d,\n",
        "            f\"{lake_name}_mean\": mean,\n",
        "            f\"{lake_name}_median\": median,\n",
        "            f\"{lake_name}_std\": std,\n",
        "            f\"{lake_name}_p10\": p10,\n",
        "            f\"{lake_name}_p90\": p90,\n",
        "            f\"{lake_name}_validpx\": valid\n",
        "        })\n",
        "    df = pd.DataFrame(rows).sort_values(\"date\")\n",
        "    df[\"date\"] = pd.to_datetime(df[\"date\"])\n",
        "    return df\n",
        "\n",
        "# 6.1. Resumen por lago\n",
        "df_atitlan   = summarize_npz(npz_atitlan,   \"Atitlan\")\n",
        "df_amatitlan = summarize_npz(npz_amatitlan, \"Amatitlan\")\n",
        "\n",
        "# 6.2. Guardar CSVs individuales\n",
        "csv_atitlan   = os.path.join(out_base, \"Atitlan_cyano_stats.csv\")\n",
        "csv_amatitlan = os.path.join(out_base, \"Amatitlan_cyano_stats.csv\")\n",
        "df_atitlan.to_csv(csv_atitlan, index=False)\n",
        "df_amatitlan.to_csv(csv_amatitlan, index=False)\n",
        "print(\"Guardados:\", csv_atitlan, \"y\", csv_amatitlan)\n",
        "\n",
        "# 6.3. Unir por fecha (outer join para no perder fechas)\n",
        "df_all = pd.merge(df_atitlan, df_amatitlan, on=\"date\", how=\"outer\").sort_values(\"date\")\n",
        "csv_all = os.path.join(out_base, \"Lagos_cyano_stats_merged.csv\")\n",
        "df_all.to_csv(csv_all, index=False)\n",
        "print(\"Guardado combinado:\", csv_all)\n",
        "\n",
        "# 6.4. (Opcional) Suavizado con media móvil de 3 observaciones\n",
        "for col in [c for c in df_all.columns if c.endswith(\"_mean\")]:\n",
        "    df_all[col + \"_roll3\"] = df_all[col].rolling(window=3, min_periods=1, center=True).mean()\n",
        "\n",
        "# 6.5. Gráficas (una por serie)\n",
        "plt.figure(figsize=(10,4))\n",
        "plt.plot(df_atitlan[\"date\"], df_atitlan[\"Atitlan_mean\"], label=\"Atitlán - mean\")\n",
        "plt.fill_between(df_atitlan[\"date\"], df_atitlan[\"Atitlan_p10\"], df_atitlan[\"Atitlan_p90\"], alpha=0.2, label=\"Atitlán p10–p90\")\n",
        "plt.title(\"Atitlán - Clorofila (CYANO) por fecha\")\n",
        "plt.xlabel(\"Fecha\")\n",
        "plt.ylabel(\"Chl (aprox)\")\n",
        "plt.legend()\n",
        "plt.grid(True)\n",
        "fig1_path = os.path.join(out_base, \"Atitlan_timeseries.png\")\n",
        "plt.tight_layout(); plt.savefig(fig1_path, dpi=150)\n",
        "plt.show()\n",
        "\n",
        "plt.figure(figsize=(10,4))\n",
        "plt.plot(df_amatitlan[\"date\"], df_amatitlan[\"Amatitlan_mean\"], label=\"Amatitlán - mean\")\n",
        "plt.fill_between(df_amatitlan[\"date\"], df_amatitlan[\"Amatitlan_p10\"], df_amatitlan[\"Amatitlan_p90\"], alpha=0.2, label=\"Amatitlán p10–p90\")\n",
        "plt.title(\"Amatitlán - Clorofila (CYANO) por fecha\")\n",
        "plt.xlabel(\"Fecha\")\n",
        "plt.ylabel(\"Chl (aprox)\")\n",
        "plt.legend()\n",
        "plt.grid(True)\n",
        "fig2_path = os.path.join(out_base, \"Amatitlan_timeseries.png\")\n",
        "plt.tight_layout(); plt.savefig(fig2_path, dpi=150)\n",
        "plt.show()\n",
        "\n",
        "# 6.6. Comparativa en la misma escala (dos curvas en un gráfico)\n",
        "plt.figure(figsize=(10,4))\n",
        "plt.plot(df_all[\"date\"], df_all[\"Atitlan_mean\"],   label=\"Atitlán mean\")\n",
        "plt.plot(df_all[\"date\"], df_all[\"Amatitlan_mean\"], label=\"Amatitlán mean\")\n",
        "plt.title(\"Comparativa Atitlán vs Amatitlán (mean chl)\")\n",
        "plt.xlabel(\"Fecha\")\n",
        "plt.ylabel(\"Chl (aprox)\")\n",
        "plt.legend()\n",
        "plt.grid(True)\n",
        "fig3_path = os.path.join(out_base, \"Comparativa_timeseries.png\")\n",
        "plt.tight_layout(); plt.savefig(fig3_path, dpi=150)\n",
        "plt.show()\n",
        "\n",
        "print(\"Figuras guardadas en:\", out_base)\n"
      ],
      "metadata": {
        "colab": {
          "base_uri": "https://localhost:8080/",
          "height": 1000
        },
        "id": "Xzj3KaTS5q4J",
        "outputId": "9485d06e-0547-47ba-eef1-19ad754b1aec"
      },
      "execution_count": null,
      "outputs": [
        {
          "output_type": "stream",
          "name": "stdout",
          "text": [
            "Guardados: /content/drive/MyDrive/Colab_Notebooks/images/Resultados/Atitlan_cyano_stats.csv y /content/drive/MyDrive/Colab_Notebooks/images/Resultados/Amatitlan_cyano_stats.csv\n",
            "Guardado combinado: /content/drive/MyDrive/Colab_Notebooks/images/Resultados/Lagos_cyano_stats_merged.csv\n"
          ]
        },
        {
          "output_type": "display_data",
          "data": {
            "text/plain": [
              "<Figure size 1000x400 with 1 Axes>"
            ],
            "image/png": "[encoded data removed]"
          },
          "metadata": {}
        },
        {
          "output_type": "display_data",
          "data": {
            "text/plain": [
              "<Figure size 1000x400 with 1 Axes>"
            ],
            "image/png": "[encoded data removed]"
          },
          "metadata": {}
        },
        {
          "output_type": "display_data",
          "data": {
            "text/plain": [
              "<Figure size 1000x400 with 1 Axes>"
            ],
            "image/png": "[encoded data removed]"
          },
          "metadata": {}
        },
        {
          "output_type": "stream",
          "name": "stdout",
          "text": [
            "Figuras guardadas en: /content/drive/MyDrive/Colab_Notebooks/images/Resultados\n"
          ]
        }
      ]
    },
    {
      "cell_type": "code",
      "source": [
        "import os, pandas as pd\n",
        "\n",
        "base_res = \"/content/drive/MyDrive/Colab_Notebooks/images/Resultados\"\n",
        "\n",
        "# Si ya tienes los DataFrames en memoria, comenta estas dos líneas y usa los que ya tienes:\n",
        "df_atitlan   = pd.read_csv(os.path.join(base_res, \"Atitlan_cyano_stats.csv\"), parse_dates=[\"date\"]) if os.path.exists(os.path.join(base_res, \"Atitlan_cyano_stats.csv\")) else df_atitlan\n",
        "df_amatitlan = pd.read_csv(os.path.join(base_res, \"Amatitlan_cyano_stats.csv\"), parse_dates=[\"date\"]) if os.path.exists(os.path.join(base_res, \"Amatitlan_cyano_stats.csv\")) else df_amatitlan\n",
        "\n",
        "df_atitlan  = df_atitlan.sort_values(\"date\")\n",
        "df_amatitlan = df_amatitlan.sort_values(\"date\")\n",
        "\n",
        "print(\"Atitlán: filas =\", len(df_atitlan))\n",
        "display(df_atitlan.head(3))\n",
        "print(\"Amatitlán: filas =\", len(df_amatitlan))\n",
        "display(df_amatitlan.head(3))\n"
      ],
      "metadata": {
        "colab": {
          "base_uri": "https://localhost:8080/",
          "height": 304
        },
        "id": "apmFVQoe_KI6",
        "outputId": "3378b637-8075-4684-df7e-93e04433e87e"
      },
      "execution_count": null,
      "outputs": [
        {
          "output_type": "stream",
          "name": "stdout",
          "text": [
            "Atitlán: filas = 29\n"
          ]
        },
        {
          "output_type": "display_data",
          "data": {
            "text/plain": [
              "        date  Atitlan_mean  Atitlan_median   Atitlan_std  Atitlan_p10  \\\n",
              "0 2025-02-07    257.803650        4.746404  1.132549e+06   -38.548668   \n",
              "1 2025-02-10      4.070998        4.071000  5.123178e-02     4.071000   \n",
              "2 2025-02-25      3.787551        4.071000  1.429344e+02     4.071000   \n",
              "\n",
              "   Atitlan_p90  Atitlan_validpx  \n",
              "0   157.722931           980272  \n",
              "1     4.071000          3173055  \n",
              "2     4.071000          3367982  "
            ],
            "text/html": [
              "\n",
              "  <div id=\"df-ce1ca6fa-efe2-4347-9f2c-8a80e43b4afb\" class=\"colab-df-container\">\n",
              "    <div>\n",
              "<style scoped>\n",
              "    .dataframe tbody tr th:only-of-type {\n",
              "        vertical-align: middle;\n",
              "    }\n",
              "\n",
              "    .dataframe tbody tr th {\n",
              "        vertical-align: top;\n",
              "    }\n",
              "\n",
              "    .dataframe thead th {\n",
              "        text-align: right;\n",
              "    }\n",
              "</style>\n",
              "<table border=\"1\" class=\"dataframe\">\n",
              "  <thead>\n",
              "    <tr style=\"text-align: right;\">\n",
              "      <th></th>\n",
              "      <th>date</th>\n",
              "      <th>Atitlan_mean</th>\n",
              "      <th>Atitlan_median</th>\n",
              "      <th>Atitlan_std</th>\n",
              "      <th>Atitlan_p10</th>\n",
              "      <th>Atitlan_p90</th>\n",
              "      <th>Atitlan_validpx</th>\n",
              "    </tr>\n",
              "  </thead>\n",
              "  <tbody>\n",
              "    <tr>\n",
              "      <th>0</th>\n",
              "      <td>2025-02-07</td>\n",
              "      <td>257.803650</td>\n",
              "      <td>4.746404</td>\n",
              "      <td>1.132549e+06</td>\n",
              "      <td>-38.548668</td>\n",
              "      <td>157.722931</td>\n",
              "      <td>980272</td>\n",
              "    </tr>\n",
              "    <tr>\n",
              "      <th>1</th>\n",
              "      <td>2025-02-10</td>\n",
              "      <td>4.070998</td>\n",
              "      <td>4.071000</td>\n",
              "      <td>5.123178e-02</td>\n",
              "      <td>4.071000</td>\n",
              "      <td>4.071000</td>\n",
              "      <td>3173055</td>\n",
              "    </tr>\n",
              "    <tr>\n",
              "      <th>2</th>\n",
              "      <td>2025-02-25</td>\n",
              "      <td>3.787551</td>\n",
              "      <td>4.071000</td>\n",
              "      <td>1.429344e+02</td>\n",
              "      <td>4.071000</td>\n",
              "      <td>4.071000</td>\n",
              "      <td>3367982</td>\n",
              "    </tr>\n",
              "  </tbody>\n",
              "</table>\n",
              "</div>\n",
              "    <div class=\"colab-df-buttons\">\n",
              "\n",
              "  <div class=\"colab-df-container\">\n",
              "    <button class=\"colab-df-convert\" onclick=\"convertToInteractive('df-ce1ca6fa-efe2-4347-9f2c-8a80e43b4afb')\"\n",
              "            title=\"Convert this dataframe to an interactive table.\"\n",
              "            style=\"display:none;\">\n",
              "\n",
              "  <svg xmlns=\"http://www.w3.org/2000/svg\" height=\"24px\" viewBox=\"0 -960 960 960\">\n",
              "    <path d=\"M120-120v-720h720v720H120Zm60-500h600v-160H180v160Zm220 220h160v-160H400v160Zm0 220h160v-160H400v160ZM180-400h160v-160H180v160Zm440 0h160v-160H620v160ZM180-180h160v-160H180v160Zm440 0h160v-160H620v160Z\"/>\n",
              "  </svg>\n",
              "    </button>\n",
              "\n",
              "  <style>\n",
              "    .colab-df-container {\n",
              "      display:flex;\n",
              "      gap: 12px;\n",
              "    }\n",
              "\n",
              "    .colab-df-convert {\n",
              "      background-color: #E8F0FE;\n",
              "      border: none;\n",
              "      border-radius: 50%;\n",
              "      cursor: pointer;\n",
              "      display: none;\n",
              "      fill: #1967D2;\n",
              "      height: 32px;\n",
              "      padding: 0 0 0 0;\n",
              "      width: 32px;\n",
              "    }\n",
              "\n",
              "    .colab-df-convert:hover {\n",
              "      background-color: #E2EBFA;\n",
              "      box-shadow: 0px 1px 2px rgba(60, 64, 67, 0.3), 0px 1px 3px 1px rgba(60, 64, 67, 0.15);\n",
              "      fill: #174EA6;\n",
              "    }\n",
              "\n",
              "    .colab-df-buttons div {\n",
              "      margin-bottom: 4px;\n",
              "    }\n",
              "\n",
              "    [theme=dark] .colab-df-convert {\n",
              "      background-color: #3B4455;\n",
              "      fill: #D2E3FC;\n",
              "    }\n",
              "\n",
              "    [theme=dark] .colab-df-convert:hover {\n",
              "      background-color: #434B5C;\n",
              "      box-shadow: 0px 1px 3px 1px rgba(0, 0, 0, 0.15);\n",
              "      filter: drop-shadow(0px 1px 2px rgba(0, 0, 0, 0.3));\n",
              "      fill: #FFFFFF;\n",
              "    }\n",
              "  </style>\n",
              "\n",
              "    <script>\n",
              "      const buttonEl =\n",
              "        document.querySelector('#df-ce1ca6fa-efe2-4347-9f2c-8a80e43b4afb button.colab-df-convert');\n",
              "      buttonEl.style.display =\n",
              "        google.colab.kernel.accessAllowed ? 'block' : 'none';\n",
              "\n",
              "      async function convertToInteractive(key) {\n",
              "        const element = document.querySelector('#df-ce1ca6fa-efe2-4347-9f2c-8a80e43b4afb');\n",
              "        const dataTable =\n",
              "          await google.colab.kernel.invokeFunction('convertToInteractive',\n",
              "                                                    [key], {});\n",
              "        if (!dataTable) return;\n",
              "\n",
              "        const docLinkHtml = 'Like what you see? Visit the ' +\n",
              "          '<a target=\"_blank\" href=https://colab.research.google.com/notebooks/data_table.ipynb>data table notebook</a>'\n",
              "          + ' to learn more about interactive tables.';\n",
              "        element.innerHTML = '';\n",
              "        dataTable['output_type'] = 'display_data';\n",
              "        await google.colab.output.renderOutput(dataTable, element);\n",
              "        const docLink = document.createElement('div');\n",
              "        docLink.innerHTML = docLinkHtml;\n",
              "        element.appendChild(docLink);\n",
              "      }\n",
              "    </script>\n",
              "  </div>\n",
              "\n",
              "\n",
              "    <div id=\"df-8c58ba99-842f-497c-b51e-8872cd783f3f\">\n",
              "      <button class=\"colab-df-quickchart\" onclick=\"quickchart('df-8c58ba99-842f-497c-b51e-8872cd783f3f')\"\n",
              "                title=\"Suggest charts\"\n",
              "                style=\"display:none;\">\n",
              "\n",
              "<svg xmlns=\"http://www.w3.org/2000/svg\" height=\"24px\"viewBox=\"0 0 24 24\"\n",
              "     width=\"24px\">\n",
              "    <g>\n",
              "        <path d=\"M19 3H5c-1.1 0-2 .9-2 2v14c0 1.1.9 2 2 2h14c1.1 0 2-.9 2-2V5c0-1.1-.9-2-2-2zM9 17H7v-7h2v7zm4 0h-2V7h2v10zm4 0h-2v-4h2v4z\"/>\n",
              "    </g>\n",
              "</svg>\n",
              "      </button>\n",
              "\n",
              "<style>\n",
              "  .colab-df-quickchart {\n",
              "      --bg-color: #E8F0FE;\n",
              "      --fill-color: #1967D2;\n",
              "      --hover-bg-color: #E2EBFA;\n",
              "      --hover-fill-color: #174EA6;\n",
              "      --disabled-fill-color: #AAA;\n",
              "      --disabled-bg-color: #DDD;\n",
              "  }\n",
              "\n",
              "  [theme=dark] .colab-df-quickchart {\n",
              "      --bg-color: #3B4455;\n",
              "      --fill-color: #D2E3FC;\n",
              "      --hover-bg-color: #434B5C;\n",
              "      --hover-fill-color: #FFFFFF;\n",
              "      --disabled-bg-color: #3B4455;\n",
              "      --disabled-fill-color: #666;\n",
              "  }\n",
              "\n",
              "  .colab-df-quickchart {\n",
              "    background-color: var(--bg-color);\n",
              "    border: none;\n",
              "    border-radius: 50%;\n",
              "    cursor: pointer;\n",
              "    display: none;\n",
              "    fill: var(--fill-color);\n",
              "    height: 32px;\n",
              "    padding: 0;\n",
              "    width: 32px;\n",
              "  }\n",
              "\n",
              "  .colab-df-quickchart:hover {\n",
              "    background-color: var(--hover-bg-color);\n",
              "    box-shadow: 0 1px 2px rgba(60, 64, 67, 0.3), 0 1px 3px 1px rgba(60, 64, 67, 0.15);\n",
              "    fill: var(--button-hover-fill-color);\n",
              "  }\n",
              "\n",
              "  .colab-df-quickchart-complete:disabled,\n",
              "  .colab-df-quickchart-complete:disabled:hover {\n",
              "    background-color: var(--disabled-bg-color);\n",
              "    fill: var(--disabled-fill-color);\n",
              "    box-shadow: none;\n",
              "  }\n",
              "\n",
              "  .colab-df-spinner {\n",
              "    border: 2px solid var(--fill-color);\n",
              "    border-color: transparent;\n",
              "    border-bottom-color: var(--fill-color);\n",
              "    animation:\n",
              "      spin 1s steps(1) infinite;\n",
              "  }\n",
              "\n",
              "  @keyframes spin {\n",
              "    0% {\n",
              "      border-color: transparent;\n",
              "      border-bottom-color: var(--fill-color);\n",
              "      border-left-color: var(--fill-color);\n",
              "    }\n",
              "    20% {\n",
              "      border-color: transparent;\n",
              "      border-left-color: var(--fill-color);\n",
              "      border-top-color: var(--fill-color);\n",
              "    }\n",
              "    30% {\n",
              "      border-color: transparent;\n",
              "      border-left-color: var(--fill-color);\n",
              "      border-top-color: var(--fill-color);\n",
              "      border-right-color: var(--fill-color);\n",
              "    }\n",
              "    40% {\n",
              "      border-color: transparent;\n",
              "      border-right-color: var(--fill-color);\n",
              "      border-top-color: var(--fill-color);\n",
              "    }\n",
              "    60% {\n",
              "      border-color: transparent;\n",
              "      border-right-color: var(--fill-color);\n",
              "    }\n",
              "    80% {\n",
              "      border-color: transparent;\n",
              "      border-right-color: var(--fill-color);\n",
              "      border-bottom-color: var(--fill-color);\n",
              "    }\n",
              "    90% {\n",
              "      border-color: transparent;\n",
              "      border-bottom-color: var(--fill-color);\n",
              "    }\n",
              "  }\n",
              "</style>\n",
              "\n",
              "      <script>\n",
              "        async function quickchart(key) {\n",
              "          const quickchartButtonEl =\n",
              "            document.querySelector('#' + key + ' button');\n",
              "          quickchartButtonEl.disabled = true;  // To prevent multiple clicks.\n",
              "          quickchartButtonEl.classList.add('colab-df-spinner');\n",
              "          try {\n",
              "            const charts = await google.colab.kernel.invokeFunction(\n",
              "                'suggestCharts', [key], {});\n",
              "          } catch (error) {\n",
              "            console.error('Error during call to suggestCharts:', error);\n",
              "          }\n",
              "          quickchartButtonEl.classList.remove('colab-df-spinner');\n",
              "          quickchartButtonEl.classList.add('colab-df-quickchart-complete');\n",
              "        }\n",
              "        (() => {\n",
              "          let quickchartButtonEl =\n",
              "            document.querySelector('#df-8c58ba99-842f-497c-b51e-8872cd783f3f button');\n",
              "          quickchartButtonEl.style.display =\n",
              "            google.colab.kernel.accessAllowed ? 'block' : 'none';\n",
              "        })();\n",
              "      </script>\n",
              "    </div>\n",
              "\n",
              "    </div>\n",
              "  </div>\n"
            ],
            "application/vnd.google.colaboratory.intrinsic+json": {
              "type": "dataframe",
              "summary": "{\n  \"name\": \"display(df_amatitlan\",\n  \"rows\": 3,\n  \"fields\": [\n    {\n      \"column\": \"date\",\n      \"properties\": {\n        \"dtype\": \"date\",\n        \"min\": \"2025-02-07 00:00:00\",\n        \"max\": \"2025-02-25 00:00:00\",\n        \"num_unique_values\": 3,\n        \"samples\": [\n          \"2025-02-07 00:00:00\",\n          \"2025-02-10 00:00:00\",\n          \"2025-02-25 00:00:00\"\n        ],\n        \"semantic_type\": \"\",\n        \"description\": \"\"\n      }\n    },\n    {\n      \"column\": \"Atitlan_mean\",\n      \"properties\": {\n        \"dtype\": \"number\",\n        \"std\": 146.5745073925395,\n        \"min\": 3.787551164627075,\n        \"max\": 257.8036499023437,\n        \"num_unique_values\": 3,\n        \"samples\": [\n          257.8036499023437,\n          4.070998191833496,\n          3.787551164627075\n        ],\n        \"semantic_type\": \"\",\n        \"description\": \"\"\n      }\n    },\n    {\n      \"column\": \"Atitlan_median\",\n      \"properties\": {\n        \"dtype\": \"number\",\n        \"std\": 0.38994472267003805,\n        \"min\": 4.071000099182129,\n        \"max\": 4.74640417098999,\n        \"num_unique_values\": 2,\n        \"samples\": [\n          4.071000099182129,\n          4.74640417098999\n        ],\n        \"semantic_type\": \"\",\n        \"description\": \"\"\n      }\n    },\n    {\n      \"column\": \"Atitlan_std\",\n      \"properties\": {\n        \"dtype\": \"number\",\n        \"std\": 653836.3418638391,\n        \"min\": 0.0512317791581153,\n        \"max\": 1132549.25,\n        \"num_unique_values\": 3,\n        \"samples\": [\n          1132549.25,\n          0.0512317791581153\n        ],\n        \"semantic_type\": \"\",\n        \"description\": \"\"\n      }\n    },\n    {\n      \"column\": \"Atitlan_p10\",\n      \"properties\": {\n        \"dtype\": \"number\",\n        \"std\": 24.60647679655445,\n        \"min\": -38.54866790771485,\n        \"max\": 4.071000099182129,\n        \"num_unique_values\": 2,\n        \"samples\": [\n          4.071000099182129,\n          -38.54866790771485\n        ],\n        \"semantic_type\": \"\",\n        \"description\": \"\"\n      }\n    },\n    {\n      \"column\": \"Atitlan_p90\",\n      \"properties\": {\n        \"dtype\": \"number\",\n        \"std\": 88.71098361409402,\n        \"min\": 4.071000099182129,\n        \"max\": 157.72293090820312,\n        \"num_unique_values\": 2,\n        \"samples\": [\n          4.071000099182129,\n          157.72293090820312\n        ],\n        \"semantic_type\": \"\",\n        \"description\": \"\"\n      }\n    },\n    {\n      \"column\": \"Atitlan_validpx\",\n      \"properties\": {\n        \"dtype\": \"number\",\n        \"std\": 1325861,\n        \"min\": 980272,\n        \"max\": 3367982,\n        \"num_unique_values\": 3,\n        \"samples\": [\n          980272,\n          3173055\n        ],\n        \"semantic_type\": \"\",\n        \"description\": \"\"\n      }\n    }\n  ]\n}"
            }
          },
          "metadata": {}
        },
        {
          "output_type": "stream",
          "name": "stdout",
          "text": [
            "Amatitlán: filas = 19\n"
          ]
        },
        {
          "output_type": "display_data",
          "data": {
            "text/plain": [
              "        date  Amatitlan_mean  Amatitlan_median  Amatitlan_std  Amatitlan_p10  \\\n",
              "0 2025-02-07       23.989712         20.028362      19.238525       6.263997   \n",
              "1 2025-02-27       22.989000         17.961296      17.745512       4.158094   \n",
              "2 2025-03-04       54.240570         48.725872      33.463604      14.149116   \n",
              "\n",
              "   Amatitlan_p90  Amatitlan_validpx  \n",
              "0      48.446640             121251  \n",
              "1      47.962700             130837  \n",
              "2     102.470238             114683  "
            ],
            "text/html": [
              "\n",
              "  <div id=\"df-3700a9e7-85cc-4e5d-b9a3-63bff08d6996\" class=\"colab-df-container\">\n",
              "    <div>\n",
              "<style scoped>\n",
              "    .dataframe tbody tr th:only-of-type {\n",
              "        vertical-align: middle;\n",
              "    }\n",
              "\n",
              "    .dataframe tbody tr th {\n",
              "        vertical-align: top;\n",
              "    }\n",
              "\n",
              "    .dataframe thead th {\n",
              "        text-align: right;\n",
              "    }\n",
              "</style>\n",
              "<table border=\"1\" class=\"dataframe\">\n",
              "  <thead>\n",
              "    <tr style=\"text-align: right;\">\n",
              "      <th></th>\n",
              "      <th>date</th>\n",
              "      <th>Amatitlan_mean</th>\n",
              "      <th>Amatitlan_median</th>\n",
              "      <th>Amatitlan_std</th>\n",
              "      <th>Amatitlan_p10</th>\n",
              "      <th>Amatitlan_p90</th>\n",
              "      <th>Amatitlan_validpx</th>\n",
              "    </tr>\n",
              "  </thead>\n",
              "  <tbody>\n",
              "    <tr>\n",
              "      <th>0</th>\n",
              "      <td>2025-02-07</td>\n",
              "      <td>23.989712</td>\n",
              "      <td>20.028362</td>\n",
              "      <td>19.238525</td>\n",
              "      <td>6.263997</td>\n",
              "      <td>48.446640</td>\n",
              "      <td>121251</td>\n",
              "    </tr>\n",
              "    <tr>\n",
              "      <th>1</th>\n",
              "      <td>2025-02-27</td>\n",
              "      <td>22.989000</td>\n",
              "      <td>17.961296</td>\n",
              "      <td>17.745512</td>\n",
              "      <td>4.158094</td>\n",
              "      <td>47.962700</td>\n",
              "      <td>130837</td>\n",
              "    </tr>\n",
              "    <tr>\n",
              "      <th>2</th>\n",
              "      <td>2025-03-04</td>\n",
              "      <td>54.240570</td>\n",
              "      <td>48.725872</td>\n",
              "      <td>33.463604</td>\n",
              "      <td>14.149116</td>\n",
              "      <td>102.470238</td>\n",
              "      <td>114683</td>\n",
              "    </tr>\n",
              "  </tbody>\n",
              "</table>\n",
              "</div>\n",
              "    <div class=\"colab-df-buttons\">\n",
              "\n",
              "  <div class=\"colab-df-container\">\n",
              "    <button class=\"colab-df-convert\" onclick=\"convertToInteractive('df-3700a9e7-85cc-4e5d-b9a3-63bff08d6996')\"\n",
              "            title=\"Convert this dataframe to an interactive table.\"\n",
              "            style=\"display:none;\">\n",
              "\n",
              "  <svg xmlns=\"http://www.w3.org/2000/svg\" height=\"24px\" viewBox=\"0 -960 960 960\">\n",
              "    <path d=\"M120-120v-720h720v720H120Zm60-500h600v-160H180v160Zm220 220h160v-160H400v160Zm0 220h160v-160H400v160ZM180-400h160v-160H180v160Zm440 0h160v-160H620v160ZM180-180h160v-160H180v160Zm440 0h160v-160H620v160Z\"/>\n",
              "  </svg>\n",
              "    </button>\n",
              "\n",
              "  <style>\n",
              "    .colab-df-container {\n",
              "      display:flex;\n",
              "      gap: 12px;\n",
              "    }\n",
              "\n",
              "    .colab-df-convert {\n",
              "      background-color: #E8F0FE;\n",
              "      border: none;\n",
              "      border-radius: 50%;\n",
              "      cursor: pointer;\n",
              "      display: none;\n",
              "      fill: #1967D2;\n",
              "      height: 32px;\n",
              "      padding: 0 0 0 0;\n",
              "      width: 32px;\n",
              "    }\n",
              "\n",
              "    .colab-df-convert:hover {\n",
              "      background-color: #E2EBFA;\n",
              "      box-shadow: 0px 1px 2px rgba(60, 64, 67, 0.3), 0px 1px 3px 1px rgba(60, 64, 67, 0.15);\n",
              "      fill: #174EA6;\n",
              "    }\n",
              "\n",
              "    .colab-df-buttons div {\n",
              "      margin-bottom: 4px;\n",
              "    }\n",
              "\n",
              "    [theme=dark] .colab-df-convert {\n",
              "      background-color: #3B4455;\n",
              "      fill: #D2E3FC;\n",
              "    }\n",
              "\n",
              "    [theme=dark] .colab-df-convert:hover {\n",
              "      background-color: #434B5C;\n",
              "      box-shadow: 0px 1px 3px 1px rgba(0, 0, 0, 0.15);\n",
              "      filter: drop-shadow(0px 1px 2px rgba(0, 0, 0, 0.3));\n",
              "      fill: #FFFFFF;\n",
              "    }\n",
              "  </style>\n",
              "\n",
              "    <script>\n",
              "      const buttonEl =\n",
              "        document.querySelector('#df-3700a9e7-85cc-4e5d-b9a3-63bff08d6996 button.colab-df-convert');\n",
              "      buttonEl.style.display =\n",
              "        google.colab.kernel.accessAllowed ? 'block' : 'none';\n",
              "\n",
              "      async function convertToInteractive(key) {\n",
              "        const element = document.querySelector('#df-3700a9e7-85cc-4e5d-b9a3-63bff08d6996');\n",
              "        const dataTable =\n",
              "          await google.colab.kernel.invokeFunction('convertToInteractive',\n",
              "                                                    [key], {});\n",
              "        if (!dataTable) return;\n",
              "\n",
              "        const docLinkHtml = 'Like what you see? Visit the ' +\n",
              "          '<a target=\"_blank\" href=https://colab.research.google.com/notebooks/data_table.ipynb>data table notebook</a>'\n",
              "          + ' to learn more about interactive tables.';\n",
              "        element.innerHTML = '';\n",
              "        dataTable['output_type'] = 'display_data';\n",
              "        await google.colab.output.renderOutput(dataTable, element);\n",
              "        const docLink = document.createElement('div');\n",
              "        docLink.innerHTML = docLinkHtml;\n",
              "        element.appendChild(docLink);\n",
              "      }\n",
              "    </script>\n",
              "  </div>\n",
              "\n",
              "\n",
              "    <div id=\"df-5333b5ea-d90a-4c30-b611-0573be95bb67\">\n",
              "      <button class=\"colab-df-quickchart\" onclick=\"quickchart('df-5333b5ea-d90a-4c30-b611-0573be95bb67')\"\n",
              "                title=\"Suggest charts\"\n",
              "                style=\"display:none;\">\n",
              "\n",
              "<svg xmlns=\"http://www.w3.org/2000/svg\" height=\"24px\"viewBox=\"0 0 24 24\"\n",
              "     width=\"24px\">\n",
              "    <g>\n",
              "        <path d=\"M19 3H5c-1.1 0-2 .9-2 2v14c0 1.1.9 2 2 2h14c1.1 0 2-.9 2-2V5c0-1.1-.9-2-2-2zM9 17H7v-7h2v7zm4 0h-2V7h2v10zm4 0h-2v-4h2v4z\"/>\n",
              "    </g>\n",
              "</svg>\n",
              "      </button>\n",
              "\n",
              "<style>\n",
              "  .colab-df-quickchart {\n",
              "      --bg-color: #E8F0FE;\n",
              "      --fill-color: #1967D2;\n",
              "      --hover-bg-color: #E2EBFA;\n",
              "      --hover-fill-color: #174EA6;\n",
              "      --disabled-fill-color: #AAA;\n",
              "      --disabled-bg-color: #DDD;\n",
              "  }\n",
              "\n",
              "  [theme=dark] .colab-df-quickchart {\n",
              "      --bg-color: #3B4455;\n",
              "      --fill-color: #D2E3FC;\n",
              "      --hover-bg-color: #434B5C;\n",
              "      --hover-fill-color: #FFFFFF;\n",
              "      --disabled-bg-color: #3B4455;\n",
              "      --disabled-fill-color: #666;\n",
              "  }\n",
              "\n",
              "  .colab-df-quickchart {\n",
              "    background-color: var(--bg-color);\n",
              "    border: none;\n",
              "    border-radius: 50%;\n",
              "    cursor: pointer;\n",
              "    display: none;\n",
              "    fill: var(--fill-color);\n",
              "    height: 32px;\n",
              "    padding: 0;\n",
              "    width: 32px;\n",
              "  }\n",
              "\n",
              "  .colab-df-quickchart:hover {\n",
              "    background-color: var(--hover-bg-color);\n",
              "    box-shadow: 0 1px 2px rgba(60, 64, 67, 0.3), 0 1px 3px 1px rgba(60, 64, 67, 0.15);\n",
              "    fill: var(--button-hover-fill-color);\n",
              "  }\n",
              "\n",
              "  .colab-df-quickchart-complete:disabled,\n",
              "  .colab-df-quickchart-complete:disabled:hover {\n",
              "    background-color: var(--disabled-bg-color);\n",
              "    fill: var(--disabled-fill-color);\n",
              "    box-shadow: none;\n",
              "  }\n",
              "\n",
              "  .colab-df-spinner {\n",
              "    border: 2px solid var(--fill-color);\n",
              "    border-color: transparent;\n",
              "    border-bottom-color: var(--fill-color);\n",
              "    animation:\n",
              "      spin 1s steps(1) infinite;\n",
              "  }\n",
              "\n",
              "  @keyframes spin {\n",
              "    0% {\n",
              "      border-color: transparent;\n",
              "      border-bottom-color: var(--fill-color);\n",
              "      border-left-color: var(--fill-color);\n",
              "    }\n",
              "    20% {\n",
              "      border-color: transparent;\n",
              "      border-left-color: var(--fill-color);\n",
              "      border-top-color: var(--fill-color);\n",
              "    }\n",
              "    30% {\n",
              "      border-color: transparent;\n",
              "      border-left-color: var(--fill-color);\n",
              "      border-top-color: var(--fill-color);\n",
              "      border-right-color: var(--fill-color);\n",
              "    }\n",
              "    40% {\n",
              "      border-color: transparent;\n",
              "      border-right-color: var(--fill-color);\n",
              "      border-top-color: var(--fill-color);\n",
              "    }\n",
              "    60% {\n",
              "      border-color: transparent;\n",
              "      border-right-color: var(--fill-color);\n",
              "    }\n",
              "    80% {\n",
              "      border-color: transparent;\n",
              "      border-right-color: var(--fill-color);\n",
              "      border-bottom-color: var(--fill-color);\n",
              "    }\n",
              "    90% {\n",
              "      border-color: transparent;\n",
              "      border-bottom-color: var(--fill-color);\n",
              "    }\n",
              "  }\n",
              "</style>\n",
              "\n",
              "      <script>\n",
              "        async function quickchart(key) {\n",
              "          const quickchartButtonEl =\n",
              "            document.querySelector('#' + key + ' button');\n",
              "          quickchartButtonEl.disabled = true;  // To prevent multiple clicks.\n",
              "          quickchartButtonEl.classList.add('colab-df-spinner');\n",
              "          try {\n",
              "            const charts = await google.colab.kernel.invokeFunction(\n",
              "                'suggestCharts', [key], {});\n",
              "          } catch (error) {\n",
              "            console.error('Error during call to suggestCharts:', error);\n",
              "          }\n",
              "          quickchartButtonEl.classList.remove('colab-df-spinner');\n",
              "          quickchartButtonEl.classList.add('colab-df-quickchart-complete');\n",
              "        }\n",
              "        (() => {\n",
              "          let quickchartButtonEl =\n",
              "            document.querySelector('#df-5333b5ea-d90a-4c30-b611-0573be95bb67 button');\n",
              "          quickchartButtonEl.style.display =\n",
              "            google.colab.kernel.accessAllowed ? 'block' : 'none';\n",
              "        })();\n",
              "      </script>\n",
              "    </div>\n",
              "\n",
              "    </div>\n",
              "  </div>\n"
            ],
            "application/vnd.google.colaboratory.intrinsic+json": {
              "type": "dataframe",
              "summary": "{\n  \"name\": \"display(df_amatitlan\",\n  \"rows\": 3,\n  \"fields\": [\n    {\n      \"column\": \"date\",\n      \"properties\": {\n        \"dtype\": \"date\",\n        \"min\": \"2025-02-07 00:00:00\",\n        \"max\": \"2025-03-04 00:00:00\",\n        \"num_unique_values\": 3,\n        \"samples\": [\n          \"2025-02-07 00:00:00\",\n          \"2025-02-27 00:00:00\",\n          \"2025-03-04 00:00:00\"\n        ],\n        \"semantic_type\": \"\",\n        \"description\": \"\"\n      }\n    },\n    {\n      \"column\": \"Amatitlan_mean\",\n      \"properties\": {\n        \"dtype\": \"number\",\n        \"std\": 17.761270897662214,\n        \"min\": 22.98900032043457,\n        \"max\": 54.240570068359375,\n        \"num_unique_values\": 3,\n        \"samples\": [\n          23.98971176147461,\n          22.98900032043457,\n          54.240570068359375\n        ],\n        \"semantic_type\": \"\",\n        \"description\": \"\"\n      }\n    },\n    {\n      \"column\": \"Amatitlan_median\",\n      \"properties\": {\n        \"dtype\": \"number\",\n        \"std\": 17.196312411308313,\n        \"min\": 17.96129608154297,\n        \"max\": 48.72587203979492,\n        \"num_unique_values\": 3,\n        \"samples\": [\n          20.02836227416992,\n          17.96129608154297,\n          48.72587203979492\n        ],\n        \"semantic_type\": \"\",\n        \"description\": \"\"\n      }\n    },\n    {\n      \"column\": \"Amatitlan_std\",\n      \"properties\": {\n        \"dtype\": \"number\",\n        \"std\": 8.67602409570916,\n        \"min\": 17.745512008666992,\n        \"max\": 33.46360397338867,\n        \"num_unique_values\": 3,\n        \"samples\": [\n          19.238525390625,\n          17.745512008666992,\n          33.46360397338867\n        ],\n        \"semantic_type\": \"\",\n        \"description\": \"\"\n      }\n    },\n    {\n      \"column\": \"Amatitlan_p10\",\n      \"properties\": {\n        \"dtype\": \"number\",\n        \"std\": 5.266726107104952,\n        \"min\": 4.15809440612793,\n        \"max\": 14.149115562438965,\n        \"num_unique_values\": 3,\n        \"samples\": [\n          6.263997077941895,\n          4.15809440612793,\n          14.149115562438965\n        ],\n        \"semantic_type\": \"\",\n        \"description\": \"\"\n      }\n    },\n    {\n      \"column\": \"Amatitlan_p90\",\n      \"properties\": {\n        \"dtype\": \"number\",\n        \"std\": 31.33117454426206,\n        \"min\": 47.96269989013672,\n        \"max\": 102.4702377319336,\n        \"num_unique_values\": 3,\n        \"samples\": [\n          48.44664001464844,\n          47.96269989013672,\n          102.4702377319336\n        ],\n        \"semantic_type\": \"\",\n        \"description\": \"\"\n      }\n    },\n    {\n      \"column\": \"Amatitlan_validpx\",\n      \"properties\": {\n        \"dtype\": \"number\",\n        \"std\": 8123,\n        \"min\": 114683,\n        \"max\": 130837,\n        \"num_unique_values\": 3,\n        \"samples\": [\n          121251,\n          130837,\n          114683\n        ],\n        \"semantic_type\": \"\",\n        \"description\": \"\"\n      }\n    }\n  ]\n}"
            }
          },
          "metadata": {}
        }
      ]
    },
    {
      "cell_type": "code",
      "source": [
        "import numpy as np\n",
        "\n",
        "def detectar_picos(df, col_mean):\n",
        "    q1 = np.nanpercentile(df[col_mean], 25)\n",
        "    q3 = np.nanpercentile(df[col_mean], 75)\n",
        "    iqr = q3 - q1\n",
        "    thr = q3 + 1.5*iqr\n",
        "    peaks = df[df[col_mean] >= thr][[\"date\", col_mean]].sort_values(col_mean, ascending=False)\n",
        "    return peaks, thr\n",
        "\n",
        "peaks_atitlan, thr_a = detectar_picos(df_atitlan, \"Atitlan_mean\")\n",
        "peaks_amatitlan, thr_m = detectar_picos(df_amatitlan, \"Amatitlan_mean\")\n",
        "\n",
        "print(f\"Umbral Atitlán: {thr_a:.3f}\")\n",
        "display(peaks_atitlan)\n",
        "print(f\"Umbral Amatitlán: {thr_m:.3f}\")\n",
        "display(peaks_amatitlan)\n"
      ],
      "metadata": {
        "colab": {
          "base_uri": "https://localhost:8080/",
          "height": 218
        },
        "id": "I0ydiIIZ_ML4",
        "outputId": "1db85618-2d84-4d66-cdba-91d6732c31b0"
      },
      "execution_count": null,
      "outputs": [
        {
          "output_type": "stream",
          "name": "stdout",
          "text": [
            "Umbral Atitlán: 30.090\n"
          ]
        },
        {
          "output_type": "display_data",
          "data": {
            "text/plain": [
              "        date  Atitlan_mean\n",
              "0 2025-02-07     257.80365"
            ],
            "text/html": [
              "\n",
              "  <div id=\"df-a1ea092d-1669-4bf1-aabd-c20e95bba653\" class=\"colab-df-container\">\n",
              "    <div>\n",
              "<style scoped>\n",
              "    .dataframe tbody tr th:only-of-type {\n",
              "        vertical-align: middle;\n",
              "    }\n",
              "\n",
              "    .dataframe tbody tr th {\n",
              "        vertical-align: top;\n",
              "    }\n",
              "\n",
              "    .dataframe thead th {\n",
              "        text-align: right;\n",
              "    }\n",
              "</style>\n",
              "<table border=\"1\" class=\"dataframe\">\n",
              "  <thead>\n",
              "    <tr style=\"text-align: right;\">\n",
              "      <th></th>\n",
              "      <th>date</th>\n",
              "      <th>Atitlan_mean</th>\n",
              "    </tr>\n",
              "  </thead>\n",
              "  <tbody>\n",
              "    <tr>\n",
              "      <th>0</th>\n",
              "      <td>2025-02-07</td>\n",
              "      <td>257.80365</td>\n",
              "    </tr>\n",
              "  </tbody>\n",
              "</table>\n",
              "</div>\n",
              "    <div class=\"colab-df-buttons\">\n",
              "\n",
              "  <div class=\"colab-df-container\">\n",
              "    <button class=\"colab-df-convert\" onclick=\"convertToInteractive('df-a1ea092d-1669-4bf1-aabd-c20e95bba653')\"\n",
              "            title=\"Convert this dataframe to an interactive table.\"\n",
              "            style=\"display:none;\">\n",
              "\n",
              "  <svg xmlns=\"http://www.w3.org/2000/svg\" height=\"24px\" viewBox=\"0 -960 960 960\">\n",
              "    <path d=\"M120-120v-720h720v720H120Zm60-500h600v-160H180v160Zm220 220h160v-160H400v160Zm0 220h160v-160H400v160ZM180-400h160v-160H180v160Zm440 0h160v-160H620v160ZM180-180h160v-160H180v160Zm440 0h160v-160H620v160Z\"/>\n",
              "  </svg>\n",
              "    </button>\n",
              "\n",
              "  <style>\n",
              "    .colab-df-container {\n",
              "      display:flex;\n",
              "      gap: 12px;\n",
              "    }\n",
              "\n",
              "    .colab-df-convert {\n",
              "      background-color: #E8F0FE;\n",
              "      border: none;\n",
              "      border-radius: 50%;\n",
              "      cursor: pointer;\n",
              "      display: none;\n",
              "      fill: #1967D2;\n",
              "      height: 32px;\n",
              "      padding: 0 0 0 0;\n",
              "      width: 32px;\n",
              "    }\n",
              "\n",
              "    .colab-df-convert:hover {\n",
              "      background-color: #E2EBFA;\n",
              "      box-shadow: 0px 1px 2px rgba(60, 64, 67, 0.3), 0px 1px 3px 1px rgba(60, 64, 67, 0.15);\n",
              "      fill: #174EA6;\n",
              "    }\n",
              "\n",
              "    .colab-df-buttons div {\n",
              "      margin-bottom: 4px;\n",
              "    }\n",
              "\n",
              "    [theme=dark] .colab-df-convert {\n",
              "      background-color: #3B4455;\n",
              "      fill: #D2E3FC;\n",
              "    }\n",
              "\n",
              "    [theme=dark] .colab-df-convert:hover {\n",
              "      background-color: #434B5C;\n",
              "      box-shadow: 0px 1px 3px 1px rgba(0, 0, 0, 0.15);\n",
              "      filter: drop-shadow(0px 1px 2px rgba(0, 0, 0, 0.3));\n",
              "      fill: #FFFFFF;\n",
              "    }\n",
              "  </style>\n",
              "\n",
              "    <script>\n",
              "      const buttonEl =\n",
              "        document.querySelector('#df-a1ea092d-1669-4bf1-aabd-c20e95bba653 button.colab-df-convert');\n",
              "      buttonEl.style.display =\n",
              "        google.colab.kernel.accessAllowed ? 'block' : 'none';\n",
              "\n",
              "      async function convertToInteractive(key) {\n",
              "        const element = document.querySelector('#df-a1ea092d-1669-4bf1-aabd-c20e95bba653');\n",
              "        const dataTable =\n",
              "          await google.colab.kernel.invokeFunction('convertToInteractive',\n",
              "                                                    [key], {});\n",
              "        if (!dataTable) return;\n",
              "\n",
              "        const docLinkHtml = 'Like what you see? Visit the ' +\n",
              "          '<a target=\"_blank\" href=https://colab.research.google.com/notebooks/data_table.ipynb>data table notebook</a>'\n",
              "          + ' to learn more about interactive tables.';\n",
              "        element.innerHTML = '';\n",
              "        dataTable['output_type'] = 'display_data';\n",
              "        await google.colab.output.renderOutput(dataTable, element);\n",
              "        const docLink = document.createElement('div');\n",
              "        docLink.innerHTML = docLinkHtml;\n",
              "        element.appendChild(docLink);\n",
              "      }\n",
              "    </script>\n",
              "  </div>\n",
              "\n",
              "\n",
              "  <div id=\"id_5421d965-062c-4c80-8530-aa66f786230b\">\n",
              "    <style>\n",
              "      .colab-df-generate {\n",
              "        background-color: #E8F0FE;\n",
              "        border: none;\n",
              "        border-radius: 50%;\n",
              "        cursor: pointer;\n",
              "        display: none;\n",
              "        fill: #1967D2;\n",
              "        height: 32px;\n",
              "        padding: 0 0 0 0;\n",
              "        width: 32px;\n",
              "      }\n",
              "\n",
              "      .colab-df-generate:hover {\n",
              "        background-color: #E2EBFA;\n",
              "        box-shadow: 0px 1px 2px rgba(60, 64, 67, 0.3), 0px 1px 3px 1px rgba(60, 64, 67, 0.15);\n",
              "        fill: #174EA6;\n",
              "      }\n",
              "\n",
              "      [theme=dark] .colab-df-generate {\n",
              "        background-color: #3B4455;\n",
              "        fill: #D2E3FC;\n",
              "      }\n",
              "\n",
              "      [theme=dark] .colab-df-generate:hover {\n",
              "        background-color: #434B5C;\n",
              "        box-shadow: 0px 1px 3px 1px rgba(0, 0, 0, 0.15);\n",
              "        filter: drop-shadow(0px 1px 2px rgba(0, 0, 0, 0.3));\n",
              "        fill: #FFFFFF;\n",
              "      }\n",
              "    </style>\n",
              "    <button class=\"colab-df-generate\" onclick=\"generateWithVariable('peaks_atitlan')\"\n",
              "            title=\"Generate code using this dataframe.\"\n",
              "            style=\"display:none;\">\n",
              "\n",
              "  <svg xmlns=\"http://www.w3.org/2000/svg\" height=\"24px\"viewBox=\"0 0 24 24\"\n",
              "       width=\"24px\">\n",
              "    <path d=\"M7,19H8.4L18.45,9,17,7.55,7,17.6ZM5,21V16.75L18.45,3.32a2,2,0,0,1,2.83,0l1.4,1.43a1.91,1.91,0,0,1,.58,1.4,1.91,1.91,0,0,1-.58,1.4L9.25,21ZM18.45,9,17,7.55Zm-12,3A5.31,5.31,0,0,0,4.9,8.1,5.31,5.31,0,0,0,1,6.5,5.31,5.31,0,0,0,4.9,4.9,5.31,5.31,0,0,0,6.5,1,5.31,5.31,0,0,0,8.1,4.9,5.31,5.31,0,0,0,12,6.5,5.46,5.46,0,0,0,6.5,12Z\"/>\n",
              "  </svg>\n",
              "    </button>\n",
              "    <script>\n",
              "      (() => {\n",
              "      const buttonEl =\n",
              "        document.querySelector('#id_5421d965-062c-4c80-8530-aa66f786230b button.colab-df-generate');\n",
              "      buttonEl.style.display =\n",
              "        google.colab.kernel.accessAllowed ? 'block' : 'none';\n",
              "\n",
              "      buttonEl.onclick = () => {\n",
              "        google.colab.notebook.generateWithVariable('peaks_atitlan');\n",
              "      }\n",
              "      })();\n",
              "    </script>\n",
              "  </div>\n",
              "\n",
              "    </div>\n",
              "  </div>\n"
            ],
            "application/vnd.google.colaboratory.intrinsic+json": {
              "type": "dataframe",
              "variable_name": "peaks_atitlan",
              "summary": "{\n  \"name\": \"peaks_atitlan\",\n  \"rows\": 1,\n  \"fields\": [\n    {\n      \"column\": \"date\",\n      \"properties\": {\n        \"dtype\": \"date\",\n        \"min\": \"2025-02-07 00:00:00\",\n        \"max\": \"2025-02-07 00:00:00\",\n        \"num_unique_values\": 1,\n        \"samples\": [\n          \"2025-02-07 00:00:00\"\n        ],\n        \"semantic_type\": \"\",\n        \"description\": \"\"\n      }\n    },\n    {\n      \"column\": \"Atitlan_mean\",\n      \"properties\": {\n        \"dtype\": \"number\",\n        \"std\": null,\n        \"min\": 257.8036499023437,\n        \"max\": 257.8036499023437,\n        \"num_unique_values\": 1,\n        \"samples\": [\n          257.8036499023437\n        ],\n        \"semantic_type\": \"\",\n        \"description\": \"\"\n      }\n    }\n  ]\n}"
            }
          },
          "metadata": {}
        },
        {
          "output_type": "stream",
          "name": "stdout",
          "text": [
            "Umbral Amatitlán: 44.753\n"
          ]
        },
        {
          "output_type": "display_data",
          "data": {
            "text/plain": [
              "        date  Amatitlan_mean\n",
              "6 2025-03-24       58.932041\n",
              "2 2025-03-04       54.240570"
            ],
            "text/html": [
              "\n",
              "  <div id=\"df-58b72a19-963e-4385-8245-298562debe80\" class=\"colab-df-container\">\n",
              "    <div>\n",
              "<style scoped>\n",
              "    .dataframe tbody tr th:only-of-type {\n",
              "        vertical-align: middle;\n",
              "    }\n",
              "\n",
              "    .dataframe tbody tr th {\n",
              "        vertical-align: top;\n",
              "    }\n",
              "\n",
              "    .dataframe thead th {\n",
              "        text-align: right;\n",
              "    }\n",
              "</style>\n",
              "<table border=\"1\" class=\"dataframe\">\n",
              "  <thead>\n",
              "    <tr style=\"text-align: right;\">\n",
              "      <th></th>\n",
              "      <th>date</th>\n",
              "      <th>Amatitlan_mean</th>\n",
              "    </tr>\n",
              "  </thead>\n",
              "  <tbody>\n",
              "    <tr>\n",
              "      <th>6</th>\n",
              "      <td>2025-03-24</td>\n",
              "      <td>58.932041</td>\n",
              "    </tr>\n",
              "    <tr>\n",
              "      <th>2</th>\n",
              "      <td>2025-03-04</td>\n",
              "      <td>54.240570</td>\n",
              "    </tr>\n",
              "  </tbody>\n",
              "</table>\n",
              "</div>\n",
              "    <div class=\"colab-df-buttons\">\n",
              "\n",
              "  <div class=\"colab-df-container\">\n",
              "    <button class=\"colab-df-convert\" onclick=\"convertToInteractive('df-58b72a19-963e-4385-8245-298562debe80')\"\n",
              "            title=\"Convert this dataframe to an interactive table.\"\n",
              "            style=\"display:none;\">\n",
              "\n",
              "  <svg xmlns=\"http://www.w3.org/2000/svg\" height=\"24px\" viewBox=\"0 -960 960 960\">\n",
              "    <path d=\"M120-120v-720h720v720H120Zm60-500h600v-160H180v160Zm220 220h160v-160H400v160Zm0 220h160v-160H400v160ZM180-400h160v-160H180v160Zm440 0h160v-160H620v160ZM180-180h160v-160H180v160Zm440 0h160v-160H620v160Z\"/>\n",
              "  </svg>\n",
              "    </button>\n",
              "\n",
              "  <style>\n",
              "    .colab-df-container {\n",
              "      display:flex;\n",
              "      gap: 12px;\n",
              "    }\n",
              "\n",
              "    .colab-df-convert {\n",
              "      background-color: #E8F0FE;\n",
              "      border: none;\n",
              "      border-radius: 50%;\n",
              "      cursor: pointer;\n",
              "      display: none;\n",
              "      fill: #1967D2;\n",
              "      height: 32px;\n",
              "      padding: 0 0 0 0;\n",
              "      width: 32px;\n",
              "    }\n",
              "\n",
              "    .colab-df-convert:hover {\n",
              "      background-color: #E2EBFA;\n",
              "      box-shadow: 0px 1px 2px rgba(60, 64, 67, 0.3), 0px 1px 3px 1px rgba(60, 64, 67, 0.15);\n",
              "      fill: #174EA6;\n",
              "    }\n",
              "\n",
              "    .colab-df-buttons div {\n",
              "      margin-bottom: 4px;\n",
              "    }\n",
              "\n",
              "    [theme=dark] .colab-df-convert {\n",
              "      background-color: #3B4455;\n",
              "      fill: #D2E3FC;\n",
              "    }\n",
              "\n",
              "    [theme=dark] .colab-df-convert:hover {\n",
              "      background-color: #434B5C;\n",
              "      box-shadow: 0px 1px 3px 1px rgba(0, 0, 0, 0.15);\n",
              "      filter: drop-shadow(0px 1px 2px rgba(0, 0, 0, 0.3));\n",
              "      fill: #FFFFFF;\n",
              "    }\n",
              "  </style>\n",
              "\n",
              "    <script>\n",
              "      const buttonEl =\n",
              "        document.querySelector('#df-58b72a19-963e-4385-8245-298562debe80 button.colab-df-convert');\n",
              "      buttonEl.style.display =\n",
              "        google.colab.kernel.accessAllowed ? 'block' : 'none';\n",
              "\n",
              "      async function convertToInteractive(key) {\n",
              "        const element = document.querySelector('#df-58b72a19-963e-4385-8245-298562debe80');\n",
              "        const dataTable =\n",
              "          await google.colab.kernel.invokeFunction('convertToInteractive',\n",
              "                                                    [key], {});\n",
              "        if (!dataTable) return;\n",
              "\n",
              "        const docLinkHtml = 'Like what you see? Visit the ' +\n",
              "          '<a target=\"_blank\" href=https://colab.research.google.com/notebooks/data_table.ipynb>data table notebook</a>'\n",
              "          + ' to learn more about interactive tables.';\n",
              "        element.innerHTML = '';\n",
              "        dataTable['output_type'] = 'display_data';\n",
              "        await google.colab.output.renderOutput(dataTable, element);\n",
              "        const docLink = document.createElement('div');\n",
              "        docLink.innerHTML = docLinkHtml;\n",
              "        element.appendChild(docLink);\n",
              "      }\n",
              "    </script>\n",
              "  </div>\n",
              "\n",
              "\n",
              "    <div id=\"df-70ecb7e6-05a9-4157-a117-b03274bd4822\">\n",
              "      <button class=\"colab-df-quickchart\" onclick=\"quickchart('df-70ecb7e6-05a9-4157-a117-b03274bd4822')\"\n",
              "                title=\"Suggest charts\"\n",
              "                style=\"display:none;\">\n",
              "\n",
              "<svg xmlns=\"http://www.w3.org/2000/svg\" height=\"24px\"viewBox=\"0 0 24 24\"\n",
              "     width=\"24px\">\n",
              "    <g>\n",
              "        <path d=\"M19 3H5c-1.1 0-2 .9-2 2v14c0 1.1.9 2 2 2h14c1.1 0 2-.9 2-2V5c0-1.1-.9-2-2-2zM9 17H7v-7h2v7zm4 0h-2V7h2v10zm4 0h-2v-4h2v4z\"/>\n",
              "    </g>\n",
              "</svg>\n",
              "      </button>\n",
              "\n",
              "<style>\n",
              "  .colab-df-quickchart {\n",
              "      --bg-color: #E8F0FE;\n",
              "      --fill-color: #1967D2;\n",
              "      --hover-bg-color: #E2EBFA;\n",
              "      --hover-fill-color: #174EA6;\n",
              "      --disabled-fill-color: #AAA;\n",
              "      --disabled-bg-color: #DDD;\n",
              "  }\n",
              "\n",
              "  [theme=dark] .colab-df-quickchart {\n",
              "      --bg-color: #3B4455;\n",
              "      --fill-color: #D2E3FC;\n",
              "      --hover-bg-color: #434B5C;\n",
              "      --hover-fill-color: #FFFFFF;\n",
              "      --disabled-bg-color: #3B4455;\n",
              "      --disabled-fill-color: #666;\n",
              "  }\n",
              "\n",
              "  .colab-df-quickchart {\n",
              "    background-color: var(--bg-color);\n",
              "    border: none;\n",
              "    border-radius: 50%;\n",
              "    cursor: pointer;\n",
              "    display: none;\n",
              "    fill: var(--fill-color);\n",
              "    height: 32px;\n",
              "    padding: 0;\n",
              "    width: 32px;\n",
              "  }\n",
              "\n",
              "  .colab-df-quickchart:hover {\n",
              "    background-color: var(--hover-bg-color);\n",
              "    box-shadow: 0 1px 2px rgba(60, 64, 67, 0.3), 0 1px 3px 1px rgba(60, 64, 67, 0.15);\n",
              "    fill: var(--button-hover-fill-color);\n",
              "  }\n",
              "\n",
              "  .colab-df-quickchart-complete:disabled,\n",
              "  .colab-df-quickchart-complete:disabled:hover {\n",
              "    background-color: var(--disabled-bg-color);\n",
              "    fill: var(--disabled-fill-color);\n",
              "    box-shadow: none;\n",
              "  }\n",
              "\n",
              "  .colab-df-spinner {\n",
              "    border: 2px solid var(--fill-color);\n",
              "    border-color: transparent;\n",
              "    border-bottom-color: var(--fill-color);\n",
              "    animation:\n",
              "      spin 1s steps(1) infinite;\n",
              "  }\n",
              "\n",
              "  @keyframes spin {\n",
              "    0% {\n",
              "      border-color: transparent;\n",
              "      border-bottom-color: var(--fill-color);\n",
              "      border-left-color: var(--fill-color);\n",
              "    }\n",
              "    20% {\n",
              "      border-color: transparent;\n",
              "      border-left-color: var(--fill-color);\n",
              "      border-top-color: var(--fill-color);\n",
              "    }\n",
              "    30% {\n",
              "      border-color: transparent;\n",
              "      border-left-color: var(--fill-color);\n",
              "      border-top-color: var(--fill-color);\n",
              "      border-right-color: var(--fill-color);\n",
              "    }\n",
              "    40% {\n",
              "      border-color: transparent;\n",
              "      border-right-color: var(--fill-color);\n",
              "      border-top-color: var(--fill-color);\n",
              "    }\n",
              "    60% {\n",
              "      border-color: transparent;\n",
              "      border-right-color: var(--fill-color);\n",
              "    }\n",
              "    80% {\n",
              "      border-color: transparent;\n",
              "      border-right-color: var(--fill-color);\n",
              "      border-bottom-color: var(--fill-color);\n",
              "    }\n",
              "    90% {\n",
              "      border-color: transparent;\n",
              "      border-bottom-color: var(--fill-color);\n",
              "    }\n",
              "  }\n",
              "</style>\n",
              "\n",
              "      <script>\n",
              "        async function quickchart(key) {\n",
              "          const quickchartButtonEl =\n",
              "            document.querySelector('#' + key + ' button');\n",
              "          quickchartButtonEl.disabled = true;  // To prevent multiple clicks.\n",
              "          quickchartButtonEl.classList.add('colab-df-spinner');\n",
              "          try {\n",
              "            const charts = await google.colab.kernel.invokeFunction(\n",
              "                'suggestCharts', [key], {});\n",
              "          } catch (error) {\n",
              "            console.error('Error during call to suggestCharts:', error);\n",
              "          }\n",
              "          quickchartButtonEl.classList.remove('colab-df-spinner');\n",
              "          quickchartButtonEl.classList.add('colab-df-quickchart-complete');\n",
              "        }\n",
              "        (() => {\n",
              "          let quickchartButtonEl =\n",
              "            document.querySelector('#df-70ecb7e6-05a9-4157-a117-b03274bd4822 button');\n",
              "          quickchartButtonEl.style.display =\n",
              "            google.colab.kernel.accessAllowed ? 'block' : 'none';\n",
              "        })();\n",
              "      </script>\n",
              "    </div>\n",
              "\n",
              "  <div id=\"id_255d833d-aa21-4bed-9735-578a65be706d\">\n",
              "    <style>\n",
              "      .colab-df-generate {\n",
              "        background-color: #E8F0FE;\n",
              "        border: none;\n",
              "        border-radius: 50%;\n",
              "        cursor: pointer;\n",
              "        display: none;\n",
              "        fill: #1967D2;\n",
              "        height: 32px;\n",
              "        padding: 0 0 0 0;\n",
              "        width: 32px;\n",
              "      }\n",
              "\n",
              "      .colab-df-generate:hover {\n",
              "        background-color: #E2EBFA;\n",
              "        box-shadow: 0px 1px 2px rgba(60, 64, 67, 0.3), 0px 1px 3px 1px rgba(60, 64, 67, 0.15);\n",
              "        fill: #174EA6;\n",
              "      }\n",
              "\n",
              "      [theme=dark] .colab-df-generate {\n",
              "        background-color: #3B4455;\n",
              "        fill: #D2E3FC;\n",
              "      }\n",
              "\n",
              "      [theme=dark] .colab-df-generate:hover {\n",
              "        background-color: #434B5C;\n",
              "        box-shadow: 0px 1px 3px 1px rgba(0, 0, 0, 0.15);\n",
              "        filter: drop-shadow(0px 1px 2px rgba(0, 0, 0, 0.3));\n",
              "        fill: #FFFFFF;\n",
              "      }\n",
              "    </style>\n",
              "    <button class=\"colab-df-generate\" onclick=\"generateWithVariable('peaks_amatitlan')\"\n",
              "            title=\"Generate code using this dataframe.\"\n",
              "            style=\"display:none;\">\n",
              "\n",
              "  <svg xmlns=\"http://www.w3.org/2000/svg\" height=\"24px\"viewBox=\"0 0 24 24\"\n",
              "       width=\"24px\">\n",
              "    <path d=\"M7,19H8.4L18.45,9,17,7.55,7,17.6ZM5,21V16.75L18.45,3.32a2,2,0,0,1,2.83,0l1.4,1.43a1.91,1.91,0,0,1,.58,1.4,1.91,1.91,0,0,1-.58,1.4L9.25,21ZM18.45,9,17,7.55Zm-12,3A5.31,5.31,0,0,0,4.9,8.1,5.31,5.31,0,0,0,1,6.5,5.31,5.31,0,0,0,4.9,4.9,5.31,5.31,0,0,0,6.5,1,5.31,5.31,0,0,0,8.1,4.9,5.31,5.31,0,0,0,12,6.5,5.46,5.46,0,0,0,6.5,12Z\"/>\n",
              "  </svg>\n",
              "    </button>\n",
              "    <script>\n",
              "      (() => {\n",
              "      const buttonEl =\n",
              "        document.querySelector('#id_255d833d-aa21-4bed-9735-578a65be706d button.colab-df-generate');\n",
              "      buttonEl.style.display =\n",
              "        google.colab.kernel.accessAllowed ? 'block' : 'none';\n",
              "\n",
              "      buttonEl.onclick = () => {\n",
              "        google.colab.notebook.generateWithVariable('peaks_amatitlan');\n",
              "      }\n",
              "      })();\n",
              "    </script>\n",
              "  </div>\n",
              "\n",
              "    </div>\n",
              "  </div>\n"
            ],
            "application/vnd.google.colaboratory.intrinsic+json": {
              "type": "dataframe",
              "variable_name": "peaks_amatitlan",
              "summary": "{\n  \"name\": \"peaks_amatitlan\",\n  \"rows\": 2,\n  \"fields\": [\n    {\n      \"column\": \"date\",\n      \"properties\": {\n        \"dtype\": \"date\",\n        \"min\": \"2025-03-04 00:00:00\",\n        \"max\": \"2025-03-24 00:00:00\",\n        \"num_unique_values\": 2,\n        \"samples\": [\n          \"2025-03-04 00:00:00\",\n          \"2025-03-24 00:00:00\"\n        ],\n        \"semantic_type\": \"\",\n        \"description\": \"\"\n      }\n    },\n    {\n      \"column\": \"Amatitlan_mean\",\n      \"properties\": {\n        \"dtype\": \"number\",\n        \"std\": 3.3173710284471314,\n        \"min\": 54.240570068359375,\n        \"max\": 58.93204116821289,\n        \"num_unique_values\": 2,\n        \"samples\": [\n          54.240570068359375,\n          58.93204116821289\n        ],\n        \"semantic_type\": \"\",\n        \"description\": \"\"\n      }\n    }\n  ]\n}"
            }
          },
          "metadata": {}
        }
      ]
    },
    {
      "cell_type": "code",
      "source": [
        "import matplotlib.pyplot as plt\n",
        "\n",
        "# Asegúrate de tener df_atitlan y df_amatitlan cargados/ordenados\n",
        "plt.figure(figsize=(10,4))\n",
        "plt.plot(df_atitlan[\"date\"], df_atitlan[\"Atitlan_mean\"], label=\"Atitlán - mean\")\n",
        "for d in peaks_atitlan[\"date\"]:\n",
        "    plt.axvline(d, linestyle=\"--\", alpha=0.3)\n",
        "plt.title(\"Atitlán - Clorofila (chl) con picos\")\n",
        "plt.xlabel(\"Fecha\"); plt.ylabel(\"chl (aprox)\"); plt.grid(True); plt.legend()\n",
        "plt.show()\n",
        "\n",
        "plt.figure(figsize=(10,4))\n",
        "plt.plot(df_amatitlan[\"date\"], df_amatitlan[\"Amatitlan_mean\"], label=\"Amatitlán - mean\")\n",
        "for d in peaks_amatitlan[\"date\"]:\n",
        "    plt.axvline(d, linestyle=\"--\", alpha=0.3)\n",
        "plt.title(\"Amatitlán - Clorofila (chl) con picos\")\n",
        "plt.xlabel(\"Fecha\"); plt.ylabel(\"chl (aprox)\"); plt.grid(True); plt.legend()\n",
        "plt.show()\n"
      ],
      "metadata": {
        "colab": {
          "base_uri": "https://localhost:8080/",
          "height": 805
        },
        "id": "pM6XbI-__O_w",
        "outputId": "fd914b12-88a7-4fb7-a7bd-fccb6981acb4"
      },
      "execution_count": null,
      "outputs": [
        {
          "output_type": "display_data",
          "data": {
            "text/plain": [
              "<Figure size 1000x400 with 1 Axes>"
            ],
            "image/png": "[encoded data removed]"
          },
          "metadata": {}
        },
        {
          "output_type": "display_data",
          "data": {
            "text/plain": [
              "<Figure size 1000x400 with 1 Axes>"
            ],
            "image/png": "[encoded data removed]"
          },
          "metadata": {}
        }
      ]
    }
  ]
}